{
 "cells": [
  {
   "cell_type": "markdown",
   "metadata": {},
   "source": [
    "#  Analysis: Correlation between Crime and Zillow Home Value Index"
   ]
  },
  {
   "cell_type": "code",
   "execution_count": null,
   "metadata": {},
   "outputs": [],
   "source": []
  },
  {
   "cell_type": "code",
   "execution_count": null,
   "metadata": {},
   "outputs": [],
   "source": [
    "import pandas as pd\n",
    "import os\n",
    "import altair as alt"
   ]
  },
  {
   "cell_type": "code",
   "execution_count": null,
   "metadata": {},
   "outputs": [],
   "source": [
    "home_value_df = pd.read_csv(os.path.join('..','data','cleaned_data','ny_zhvi.csv'))\n",
    "home_value_df.drop(['RegionType','StateName','State','City','Metro','CountyName'], inplace=True, axis=1) \n",
    "home_value_df.rename({'RegionName': 'zipcode'}, inplace=True, axis=1)\n",
    "home_value_df.set_index('zipcode',inplace=True)\n",
    "home_value_df_transposed = home_value_df.T\n",
    "home_value_df_transposed.reset_index(inplace=True)\n",
    "cols = [str(a) for a in list(home_value_df_transposed)]\n",
    "cols[0] = 'date_str'\n",
    "home_value_df_transposed.columns = cols\n",
    "\n",
    "\n",
    "home_value_df_transposed_slim = pd.DataFrame(columns=['date_str', 'mean_zhvi',  'zipcode'])\n",
    "\n",
    "for zip_ in list(home_value_df_transposed):\n",
    "    if zip_ == 'date_str':\n",
    "        continue\n",
    "    current_zip = home_value_df_transposed[['date_str', zip_]].copy()\n",
    "    current_zip['zipcode'] = zip_\n",
    "    current_zip.columns = ['date_str', 'mean_zhvi',  'zipcode']\n",
    "    home_value_df_transposed_slim = home_value_df_transposed_slim.append(current_zip)\n",
    "home_value_df_transposed_slim['mean_zhvi'] = home_value_df_transposed_slim['mean_zhvi'].astype(float)\n",
    "\n",
    "home_value_df_transposed_slim['date'] = pd.to_datetime(home_value_df_transposed_slim['date_str'])\n",
    "home_value_df_transposed_slim['date_year'] = home_value_df_transposed_slim['date'].dt.isocalendar().year\n",
    "zhvi_grouped = home_value_df_transposed_slim.groupby(['zipcode', 'date_year'], as_index=False).agg({'mean_zhvi':'mean'})\n",
    "# zhvi_grouped['zipcode_max'] = zhvi_grouped.groupby('zipcode')['mean_zhvi'].transform('max')\n",
    "# zhvi_grouped.head()"
   ]
  },
  {
   "cell_type": "code",
   "execution_count": null,
   "metadata": {},
   "outputs": [],
   "source": [
    "crime_2017_df = pd.read_csv(os.path.join('..', 'data', 'cleaned_data', 'ny_crimes_2017.csv'))\n",
    "crime_2018_df = pd.read_csv(os.path.join('..', 'data', 'cleaned_data', 'ny_crimes_2018.csv'))\n",
    "crime_2019_df = pd.read_csv(os.path.join('..', 'data', 'cleaned_data', 'ny_crimes_2019.csv'))\n",
    "\n",
    "print(f'2017 crime df shape: {crime_2017_df.shape}')\n",
    "print(f'2018 crime df shape: {crime_2018_df.shape}')\n",
    "print(f'2019 crime df shape: {crime_2019_df.shape}')\n",
    "\n",
    "\n",
    "crime_2017_df['ARREST_DATE_STR'] = crime_2017_df['ARREST_DATE'].copy()\n",
    "crime_2017_df['ARREST_DATE'] = pd.to_datetime(crime_2017_df['ARREST_DATE_STR']).copy()\n",
    "crime_2017_df['ARREST_DATE_WEEK'] = crime_2017_df['ARREST_DATE'].dt.isocalendar().week\n",
    "crime_2017_df['ARREST_DATE_YEAR'] = crime_2017_df['ARREST_DATE'].dt.isocalendar().year\n",
    "crime_2017_df['zip_code'] = crime_2017_df['zip_code'].astype(str)\n",
    "\n",
    "crime_2018_df['ARREST_DATE_STR'] = crime_2018_df['ARREST_DATE'].copy()\n",
    "crime_2018_df['ARREST_DATE'] = pd.to_datetime(crime_2018_df['ARREST_DATE_STR']).copy()\n",
    "crime_2018_df['ARREST_DATE_WEEK'] = crime_2018_df['ARREST_DATE'].dt.isocalendar().week\n",
    "crime_2018_df['ARREST_DATE_YEAR'] = crime_2018_df['ARREST_DATE'].dt.isocalendar().year\n",
    "crime_2018_df['zip_code'] = crime_2018_df['zip_code'].astype(str)\n",
    "\n",
    "crime_2019_df['ARREST_DATE_STR'] = crime_2019_df['ARREST_DATE'].copy()\n",
    "crime_2019_df['ARREST_DATE'] = pd.to_datetime(crime_2019_df['ARREST_DATE_STR']).copy()\n",
    "crime_2019_df['ARREST_DATE_WEEK'] = crime_2019_df['ARREST_DATE'].dt.isocalendar().week\n",
    "crime_2019_df['ARREST_DATE_YEAR'] = crime_2019_df['ARREST_DATE'].dt.isocalendar().year\n",
    "crime_2019_df['zip_code'] = crime_2019_df['zip_code'].astype(str)"
   ]
  },
  {
   "cell_type": "code",
   "execution_count": null,
   "metadata": {},
   "outputs": [],
   "source": [
    "all_crimes_full_df = crime_2017_df.append(crime_2018_df)\n",
    "all_crimes_full_df = all_crimes_full_df.append(crime_2019_df)\n",
    "print(all_crimes_full_df.shape)"
   ]
  },
  {
   "cell_type": "code",
   "execution_count": null,
   "metadata": {},
   "outputs": [],
   "source": [
    "all_crimes_full_df.head()"
   ]
  },
  {
   "cell_type": "code",
   "execution_count": null,
   "metadata": {},
   "outputs": [],
   "source": [
    "# add average arrests by year\n",
    "crime_by_zip = all_crimes_full_df.groupby(['zip_code', 'ARREST_DATE_YEAR'], as_index=False).agg({'ARREST_KEY': 'count'})\n",
    "crime_by_zip = crime_by_zip[(crime_by_zip.ARREST_DATE_YEAR > 2016) & (crime_by_zip.ARREST_DATE_YEAR < 2020)]\n",
    "crime_by_zip.columns = ['zipcode','year','total_arrest_count']\n",
    "crime_by_zip.shape"
   ]
  },
  {
   "cell_type": "code",
   "execution_count": null,
   "metadata": {},
   "outputs": [],
   "source": [
    "crime_by_zip"
   ]
  },
  {
   "cell_type": "code",
   "execution_count": null,
   "metadata": {},
   "outputs": [],
   "source": [
    "zhvi_grouped_filtered = zhvi_grouped[(zhvi_grouped.date_year > 2016) & (zhvi_grouped.date_year < 2020)].copy()\n",
    "print(zhvi_grouped_filtered.shape)"
   ]
  },
  {
   "cell_type": "code",
   "execution_count": null,
   "metadata": {},
   "outputs": [],
   "source": [
    "full_df = zhvi_grouped_filtered.merge(crime_by_zip, left_on=['zipcode','date_year'], right_on=['zipcode','year'], how='inner')\n",
    "full_df.drop(['date_year'], inplace=True, axis=1)\n",
    "full_df.head()"
   ]
  },
  {
   "cell_type": "code",
   "execution_count": null,
   "metadata": {},
   "outputs": [],
   "source": [
    "full_df['mean_zhvi'].corr(full_df['total_arrest_count'])"
   ]
  },
  {
   "cell_type": "code",
   "execution_count": null,
   "metadata": {},
   "outputs": [],
   "source": [
    "alt.Chart(full_df).mark_point().encode(\n",
    "    x=alt.X('mean_zhvi'),\n",
    "    y=alt.Y('total_arrest_count'),\n",
    "    color='year')"
   ]
  },
  {
   "cell_type": "markdown",
   "metadata": {},
   "source": [
    "Maybe arrests to be adjusted to per capita to scale for the different sizes of zip codes\n",
    "\n",
    "http://www.usa.com/rank/new-york-state--population-density--zip-code-rank.htm"
   ]
  },
  {
   "cell_type": "code",
   "execution_count": null,
   "metadata": {},
   "outputs": [],
   "source": [
    "pop_by_zip_df = pd.read_csv(os.path.join('..','data','cleaned_data','population_by_zip.csv'))\n",
    "pop_by_zip_df.columns=['zipcode','population']\n",
    "pop_by_zip_df['population_int'] = pop_by_zip_df['population'].apply(lambda a: int(a.replace(',','')))\n",
    "pop_by_zip_df.drop(['population'], inplace=True, axis=1)\n",
    "pop_by_zip_df['zipcode'] = pop_by_zip_df['zipcode'].astype(str).str[:5]\n",
    "pop_by_zip_df.head()"
   ]
  },
  {
   "cell_type": "code",
   "execution_count": null,
   "metadata": {},
   "outputs": [],
   "source": [
    "full_df = full_df.merge(pop_by_zip_df, left_on=['zipcode'], right_on=['zipcode'], how='left')\n",
    "full_df['arrest_per_capita'] = full_df['total_arrest_count'] / full_df['population_int']\n",
    "full_df.head()"
   ]
  },
  {
   "cell_type": "code",
   "execution_count": null,
   "metadata": {},
   "outputs": [],
   "source": [
    "alt.Chart(full_df).mark_point().encode(\n",
    "    x=alt.X('mean_zhvi'),\n",
    "    y=alt.Y('arrest_per_capita'),\n",
    "    color='year:N',\n",
    "    tooltip=['zipcode'])"
   ]
  },
  {
   "cell_type": "code",
   "execution_count": null,
   "metadata": {},
   "outputs": [],
   "source": [
    "full_df['mean_zhvi'].corr(full_df['arrest_per_capita'])"
   ]
  },
  {
   "cell_type": "markdown",
   "metadata": {},
   "source": [
    "## Correlation Between Types of Arrest and ZHVI"
   ]
  },
  {
   "cell_type": "markdown",
   "metadata": {},
   "source": [
    "#### Misdemeanors"
   ]
  },
  {
   "cell_type": "code",
   "execution_count": null,
   "metadata": {},
   "outputs": [],
   "source": [
    "misdemeanor_crime_by_zip = all_crimes_full_df[all_crimes_full_df.LAW_CAT_CD == 'M'].groupby(['zip_code', 'ARREST_DATE_YEAR'], as_index=False).agg({'ARREST_KEY': 'count'})\n",
    "misdemeanor_crime_by_zip = misdemeanor_crime_by_zip[(misdemeanor_crime_by_zip.ARREST_DATE_YEAR > 2016) & \n",
    "                                                    (misdemeanor_crime_by_zip.ARREST_DATE_YEAR < 2020)]\n",
    "misdemeanor_crime_by_zip.columns = ['zipcode','year','total_arrest_count']\n",
    "misdemeanor_crime_by_zip.shape"
   ]
  },
  {
   "cell_type": "code",
   "execution_count": null,
   "metadata": {},
   "outputs": [],
   "source": [
    "m_full_df = zhvi_grouped_filtered.merge(misdemeanor_crime_by_zip, left_on=['zipcode','date_year'], right_on=['zipcode','year'], how='inner')\n",
    "m_full_df.drop(['date_year'], inplace=True, axis=1)\n",
    "m_full_df.head()"
   ]
  },
  {
   "cell_type": "code",
   "execution_count": null,
   "metadata": {},
   "outputs": [],
   "source": [
    "m_full_df['mean_zhvi'].corr(m_full_df['total_arrest_count'])"
   ]
  },
  {
   "cell_type": "code",
   "execution_count": null,
   "metadata": {},
   "outputs": [],
   "source": [
    "m_full_df = m_full_df.merge(pop_by_zip_df, left_on=['zipcode'], right_on=['zipcode'], how='left')\n",
    "m_full_df['arrest_per_capita'] = m_full_df['total_arrest_count'] / m_full_df['population_int']\n",
    "m_full_df.head()"
   ]
  },
  {
   "cell_type": "code",
   "execution_count": null,
   "metadata": {},
   "outputs": [],
   "source": [
    "m_full_df['mean_zhvi'].corr(m_full_df['arrest_per_capita'])"
   ]
  },
  {
   "cell_type": "markdown",
   "metadata": {},
   "source": [
    "#### Felonies"
   ]
  },
  {
   "cell_type": "code",
   "execution_count": null,
   "metadata": {},
   "outputs": [],
   "source": [
    "felony_crime_by_zip = all_crimes_full_df[all_crimes_full_df.LAW_CAT_CD == 'F'].groupby(['zip_code', 'ARREST_DATE_YEAR'], as_index=False).agg({'ARREST_KEY': 'count'})\n",
    "felony_crime_by_zip = felony_crime_by_zip[(felony_crime_by_zip.ARREST_DATE_YEAR > 2016) & \n",
    "                                                    (felony_crime_by_zip.ARREST_DATE_YEAR < 2020)]\n",
    "felony_crime_by_zip.columns = ['zipcode','year','total_arrest_count']\n",
    "felony_crime_by_zip.shape"
   ]
  },
  {
   "cell_type": "code",
   "execution_count": null,
   "metadata": {},
   "outputs": [],
   "source": [
    "f_full_df = zhvi_grouped_filtered.merge(felony_crime_by_zip, left_on=['zipcode','date_year'], right_on=['zipcode','year'], how='inner')\n",
    "f_full_df.drop(['date_year'], inplace=True, axis=1)\n",
    "f_full_df.head()"
   ]
  },
  {
   "cell_type": "code",
   "execution_count": null,
   "metadata": {},
   "outputs": [],
   "source": [
    "f_full_df['mean_zhvi'].corr(f_full_df['total_arrest_count'])"
   ]
  },
  {
   "cell_type": "code",
   "execution_count": null,
   "metadata": {},
   "outputs": [],
   "source": [
    "f_full_df = f_full_df.merge(pop_by_zip_df, left_on=['zipcode'], right_on=['zipcode'], how='left')\n",
    "f_full_df['arrest_per_capita'] = f_full_df['total_arrest_count'] / f_full_df['population_int']\n",
    "f_full_df.head()"
   ]
  },
  {
   "cell_type": "code",
   "execution_count": null,
   "metadata": {},
   "outputs": [],
   "source": [
    "f_full_df['mean_zhvi'].corr(f_full_df['arrest_per_capita'])"
   ]
  },
  {
   "cell_type": "markdown",
   "metadata": {},
   "source": [
    "## Correlation with Crime Last Year"
   ]
  },
  {
   "cell_type": "code",
   "execution_count": null,
   "metadata": {},
   "outputs": [],
   "source": [
    "zhvi_grouped_filtered_last_year = zhvi_grouped_filtered.copy()\n",
    "zhvi_grouped_filtered_last_year['date_year_last_year'] = zhvi_grouped_filtered_last_year['date_year'] - 1\n",
    "zhvi_grouped_filtered_last_year.head()"
   ]
  },
  {
   "cell_type": "code",
   "execution_count": null,
   "metadata": {},
   "outputs": [],
   "source": [
    "full_df_lagged = zhvi_grouped_filtered_last_year.merge(crime_by_zip, left_on=['zipcode','date_year_last_year'], right_on=['zipcode','year'], how='inner')\n",
    "full_df_lagged.drop(['date_year', 'year'], inplace=True, axis=1)\n",
    "full_df_lagged.head()"
   ]
  },
  {
   "cell_type": "code",
   "execution_count": null,
   "metadata": {},
   "outputs": [],
   "source": [
    "full_df_lagged = full_df_lagged.merge(pop_by_zip_df, left_on=['zipcode'], right_on=['zipcode'], how='left')\n",
    "full_df_lagged['arrest_per_capita'] = full_df_lagged['total_arrest_count'] / full_df_lagged['population_int']\n",
    "full_df_lagged.head()"
   ]
  },
  {
   "cell_type": "code",
   "execution_count": null,
   "metadata": {},
   "outputs": [],
   "source": [
    "corr = full_df_lagged['mean_zhvi'].corr(full_df_lagged['arrest_per_capita'])\n",
    "print(f'Correlation between ZHVI and prior year crime count per capita {corr:.2f}\\n')\n",
    "\n",
    "alt.Chart(full_df_lagged).mark_point().encode(\n",
    "    x=alt.X('mean_zhvi'),\n",
    "    y=alt.Y('arrest_per_capita'),\n",
    "    color='date_year_last_year:N',\n",
    "    tooltip=['zipcode'])"
   ]
  },
  {
   "cell_type": "markdown",
   "metadata": {},
   "source": [
    "## OLS with Arrest Rate to Predict ZHVI"
   ]
  },
  {
   "cell_type": "code",
   "execution_count": null,
   "metadata": {},
   "outputs": [],
   "source": [
    "from sklearn.linear_model import LinearRegression\n",
    "import numpy as np"
   ]
  },
  {
   "cell_type": "code",
   "execution_count": null,
   "metadata": {},
   "outputs": [],
   "source": [
    "# get linear model coefficients and slope\n",
    "linear_full_df = full_df.copy()\n",
    "linear_full_df.fillna(method='bfill', inplace=True)\n",
    "\n",
    "linear_model = LinearRegression()\n",
    "linear_model.fit(np.array(linear_full_df['arrest_per_capita']).reshape(-1, 1), np.array(linear_full_df['mean_zhvi']).reshape(-1, 1))"
   ]
  },
  {
   "cell_type": "code",
   "execution_count": null,
   "metadata": {},
   "outputs": [],
   "source": [
    "arrest_list = list(np.linspace(start=full_df['arrest_per_capita'].min(), stop=full_df['arrest_per_capita'].max(), num=1000))\n",
    "zhvi_list = [((a*linear_model.coef_) + linear_model.intercept_).item() for a in arrest_list]\n",
    "linear_output_df = pd.DataFrame({'zhvi_list': zhvi_list, 'arrest_list': arrest_list})\n",
    "linear_output_df.head()"
   ]
  },
  {
   "cell_type": "code",
   "execution_count": null,
   "metadata": {},
   "outputs": [],
   "source": [
    "corr = full_df['mean_zhvi'].corr(full_df['arrest_per_capita'])\n",
    "print(f'Correlation between ZHVI and prior year crime count per capita {corr:.4f}\\n')\n",
    "\n",
    "c1 = alt.Chart(full_df).mark_point().encode(\n",
    "    x=alt.X('mean_zhvi'),\n",
    "    y=alt.Y('arrest_per_capita'),\n",
    "    color='year:N',\n",
    "    tooltip=['zipcode'])\n",
    "\n",
    "c2 = alt.Chart(linear_output_df).mark_line(color='black').encode(\n",
    "    x=alt.X('zhvi_list'),\n",
    "    y=alt.Y('arrest_list'))\n",
    "\n",
    "c1+c2"
   ]
  },
  {
   "cell_type": "code",
   "execution_count": null,
   "metadata": {},
   "outputs": [],
   "source": [
    "# residuals\n",
    "\n",
    "preds = linear_model.predict(np.array(linear_full_df['arrest_per_capita']).reshape(-1, 1))\n",
    "actuals = np.array(linear_full_df['mean_zhvi']).reshape(-1, 1)\n",
    "\n",
    "# on average, predictions using only crime rate per capita to predict ZHVI will be off by $250k\n",
    "(np.abs(actuals - preds)).mean()"
   ]
  },
  {
   "cell_type": "code",
   "execution_count": null,
   "metadata": {},
   "outputs": [],
   "source": []
  },
  {
   "cell_type": "markdown",
   "metadata": {},
   "source": [
    "### Test"
   ]
  },
  {
   "cell_type": "code",
   "execution_count": null,
   "metadata": {},
   "outputs": [],
   "source": [
    "test_df = full_df.copy()\n",
    "test_df = test_df[(test_df.mean_zhvi < 1600000) & (test_df.arrest_per_capita < 0.13)].copy()\n",
    "\n",
    "corr = test_df['mean_zhvi'].corr(test_df['arrest_per_capita'])\n",
    "print(f'Correlation between ZHVI and prior year crime count per capita {corr:.4f}\\n')\n",
    "\n",
    "# c1 = \n",
    "alt.Chart(test_df).mark_point().encode(\n",
    "    x=alt.X('mean_zhvi'),\n",
    "    y=alt.Y('arrest_per_capita'),\n",
    "    color='year:N',\n",
    "    tooltip=['zipcode'])\n",
    "\n",
    "# c2 = alt.Chart(linear_output_df).mark_line(color='black').encode(\n",
    "#     x=alt.X('zhvi_list'),\n",
    "#     y=alt.Y('arrest_list'))\n",
    "\n",
    "# c1+c2"
   ]
  },
  {
   "cell_type": "code",
   "execution_count": null,
   "metadata": {},
   "outputs": [],
   "source": []
  }
 ],
 "metadata": {
  "kernelspec": {
   "display_name": "umads_venv",
   "language": "python",
   "name": "umads_venv"
  },
  "language_info": {
   "codemirror_mode": {
    "name": "ipython",
    "version": 3
   },
   "file_extension": ".py",
   "mimetype": "text/x-python",
   "name": "python",
   "nbconvert_exporter": "python",
   "pygments_lexer": "ipython3",
   "version": "3.7.4"
  }
 },
 "nbformat": 4,
 "nbformat_minor": 4
}
