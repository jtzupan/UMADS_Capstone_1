{
 "cells": [
  {
   "cell_type": "markdown",
   "metadata": {},
   "source": [
    "#  Analysis: Correlation between Crime and Zillow Home Value Index"
   ]
  },
  {
   "cell_type": "code",
   "execution_count": null,
   "metadata": {},
   "outputs": [],
   "source": []
  },
  {
   "cell_type": "code",
   "execution_count": 6,
   "metadata": {},
   "outputs": [],
   "source": [
    "import pandas as pd\n",
    "import os\n",
    "import altair as alt"
   ]
  },
  {
   "cell_type": "code",
   "execution_count": 7,
   "metadata": {},
   "outputs": [],
   "source": [
    "home_value_df = pd.read_csv(os.path.join('..','data','cleaned_data','ny_zhvi.csv'))\n",
    "home_value_df.drop(['RegionType','StateName','State','City','Metro','CountyName'], inplace=True, axis=1) \n",
    "home_value_df.rename({'RegionName': 'zipcode'}, inplace=True, axis=1)\n",
    "home_value_df.set_index('zipcode',inplace=True)\n",
    "home_value_df_transposed = home_value_df.T\n",
    "home_value_df_transposed.reset_index(inplace=True)\n",
    "cols = [str(a) for a in list(home_value_df_transposed)]\n",
    "cols[0] = 'date_str'\n",
    "home_value_df_transposed.columns = cols\n",
    "\n",
    "\n",
    "home_value_df_transposed_slim = pd.DataFrame(columns=['date_str', 'mean_zhvi',  'zipcode'])\n",
    "\n",
    "for zip_ in list(home_value_df_transposed):\n",
    "    if zip_ == 'date_str':\n",
    "        continue\n",
    "    current_zip = home_value_df_transposed[['date_str', zip_]].copy()\n",
    "    current_zip['zipcode'] = zip_\n",
    "    current_zip.columns = ['date_str', 'mean_zhvi',  'zipcode']\n",
    "    home_value_df_transposed_slim = home_value_df_transposed_slim.append(current_zip)\n",
    "home_value_df_transposed_slim['mean_zhvi'] = home_value_df_transposed_slim['mean_zhvi'].astype(float)\n",
    "\n",
    "home_value_df_transposed_slim['date'] = pd.to_datetime(home_value_df_transposed_slim['date_str'])\n",
    "home_value_df_transposed_slim['date_year'] = home_value_df_transposed_slim['date'].dt.isocalendar().year\n",
    "zhvi_grouped = home_value_df_transposed_slim.groupby(['zipcode', 'date_year'], as_index=False).agg({'mean_zhvi':'mean'})\n",
    "# zhvi_grouped['zipcode_max'] = zhvi_grouped.groupby('zipcode')['mean_zhvi'].transform('max')\n",
    "# zhvi_grouped.head()"
   ]
  },
  {
   "cell_type": "code",
   "execution_count": 11,
   "metadata": {},
   "outputs": [
    {
     "data": {
      "text/plain": [
       "array(['10001', '10002', '10003', '10004', '10005', '10006', '10007',\n",
       "       '10009', '10010', '10011', '10012', '10013', '10014', '10016',\n",
       "       '10017', '10018', '10019', '10020', '10021', '10022', '10023',\n",
       "       '10024', '10025', '10026', '10027', '10028', '10030', '10031',\n",
       "       '10032', '10033', '10034', '10035', '10036', '10040', '10044',\n",
       "       '10065', '10069', '10075', '10118', '10128', '10280', '10282',\n",
       "       '10301', '10302', '10303', '10304', '10305', '10306', '10307',\n",
       "       '10308', '10309', '10310', '10312', '10314', '10451', '10453',\n",
       "       '10454', '10455', '10456', '10457', '10458', '10459', '10460',\n",
       "       '10461', '10462', '10463', '10464', '10465', '10466', '10467',\n",
       "       '10468', '10469', '10470', '10471', '10472', '10473', '10475',\n",
       "       '11004', '11101', '11102', '11103', '11105', '11106', '11201',\n",
       "       '11203', '11204', '11205', '11206', '11207', '11208', '11209',\n",
       "       '11210', '11211', '11212', '11213', '11214', '11215', '11216',\n",
       "       '11217', '11218', '11219', '11220', '11221', '11222', '11223',\n",
       "       '11224', '11225', '11226', '11228', '11229', '11230', '11231',\n",
       "       '11232', '11233', '11234', '11235', '11236', '11237', '11238',\n",
       "       '11239', '11243', '11249', '11354', '11355', '11356', '11357',\n",
       "       '11358', '11360', '11361', '11362', '11363', '11364', '11365',\n",
       "       '11366', '11367', '11368', '11369', '11370', '11372', '11373',\n",
       "       '11374', '11375', '11377', '11378', '11379', '11385', '11411',\n",
       "       '11412', '11413', '11414', '11415', '11416', '11417', '11418',\n",
       "       '11419', '11420', '11421', '11422', '11423', '11426', '11427',\n",
       "       '11428', '11429', '11430', '11432', '11433', '11434', '11435',\n",
       "       '11436', '11691', '11692', '11693', '11694', '13784'], dtype=object)"
      ]
     },
     "execution_count": 11,
     "metadata": {},
     "output_type": "execute_result"
    }
   ],
   "source": []
  },
  {
   "cell_type": "code",
   "execution_count": 3,
   "metadata": {},
   "outputs": [
    {
     "name": "stdout",
     "output_type": "stream",
     "text": [
      "2017 crime df shape: (286225, 20)\n",
      "2018 crime df shape: (246773, 20)\n",
      "2019 crime df shape: (214617, 20)\n"
     ]
    }
   ],
   "source": [
    "crime_2017_df = pd.read_csv(os.path.join('..', 'data', 'cleaned_data', 'ny_crimes_2017.csv'))\n",
    "crime_2018_df = pd.read_csv(os.path.join('..', 'data', 'cleaned_data', 'ny_crimes_2018.csv'))\n",
    "crime_2019_df = pd.read_csv(os.path.join('..', 'data', 'cleaned_data', 'ny_crimes_2019.csv'))\n",
    "\n",
    "print(f'2017 crime df shape: {crime_2017_df.shape}')\n",
    "print(f'2018 crime df shape: {crime_2018_df.shape}')\n",
    "print(f'2019 crime df shape: {crime_2019_df.shape}')\n",
    "\n",
    "\n",
    "crime_2017_df['ARREST_DATE_STR'] = crime_2017_df['ARREST_DATE'].copy()\n",
    "crime_2017_df['ARREST_DATE'] = pd.to_datetime(crime_2017_df['ARREST_DATE_STR']).copy()\n",
    "crime_2017_df['ARREST_DATE_WEEK'] = crime_2017_df['ARREST_DATE'].dt.isocalendar().week\n",
    "crime_2017_df['ARREST_DATE_YEAR'] = crime_2017_df['ARREST_DATE'].dt.isocalendar().year\n",
    "crime_2017_df['zip_code'] = crime_2017_df['zip_code'].astype(str)\n",
    "\n",
    "crime_2018_df['ARREST_DATE_STR'] = crime_2018_df['ARREST_DATE'].copy()\n",
    "crime_2018_df['ARREST_DATE'] = pd.to_datetime(crime_2018_df['ARREST_DATE_STR']).copy()\n",
    "crime_2018_df['ARREST_DATE_WEEK'] = crime_2018_df['ARREST_DATE'].dt.isocalendar().week\n",
    "crime_2018_df['ARREST_DATE_YEAR'] = crime_2018_df['ARREST_DATE'].dt.isocalendar().year\n",
    "crime_2018_df['zip_code'] = crime_2018_df['zip_code'].astype(str)\n",
    "\n",
    "crime_2019_df['ARREST_DATE_STR'] = crime_2019_df['ARREST_DATE'].copy()\n",
    "crime_2019_df['ARREST_DATE'] = pd.to_datetime(crime_2019_df['ARREST_DATE_STR']).copy()\n",
    "crime_2019_df['ARREST_DATE_WEEK'] = crime_2019_df['ARREST_DATE'].dt.isocalendar().week\n",
    "crime_2019_df['ARREST_DATE_YEAR'] = crime_2019_df['ARREST_DATE'].dt.isocalendar().year\n",
    "crime_2019_df['zip_code'] = crime_2019_df['zip_code'].astype(str)"
   ]
  },
  {
   "cell_type": "code",
   "execution_count": 4,
   "metadata": {},
   "outputs": [
    {
     "name": "stdout",
     "output_type": "stream",
     "text": [
      "(747615, 23)\n"
     ]
    }
   ],
   "source": [
    "all_crimes_full_df = crime_2017_df.append(crime_2018_df)\n",
    "all_crimes_full_df = all_crimes_full_df.append(crime_2019_df)\n",
    "print(all_crimes_full_df.shape)"
   ]
  },
  {
   "cell_type": "code",
   "execution_count": 5,
   "metadata": {},
   "outputs": [
    {
     "data": {
      "text/html": [
       "<div>\n",
       "<style scoped>\n",
       "    .dataframe tbody tr th:only-of-type {\n",
       "        vertical-align: middle;\n",
       "    }\n",
       "\n",
       "    .dataframe tbody tr th {\n",
       "        vertical-align: top;\n",
       "    }\n",
       "\n",
       "    .dataframe thead th {\n",
       "        text-align: right;\n",
       "    }\n",
       "</style>\n",
       "<table border=\"1\" class=\"dataframe\">\n",
       "  <thead>\n",
       "    <tr style=\"text-align: right;\">\n",
       "      <th></th>\n",
       "      <th>ARREST_KEY</th>\n",
       "      <th>ARREST_DATE</th>\n",
       "      <th>PD_CD</th>\n",
       "      <th>PD_DESC</th>\n",
       "      <th>KY_CD</th>\n",
       "      <th>OFNS_DESC</th>\n",
       "      <th>LAW_CODE</th>\n",
       "      <th>LAW_CAT_CD</th>\n",
       "      <th>ARREST_BORO</th>\n",
       "      <th>ARREST_PRECINCT</th>\n",
       "      <th>...</th>\n",
       "      <th>PERP_RACE</th>\n",
       "      <th>X_COORD_CD</th>\n",
       "      <th>Y_COORD_CD</th>\n",
       "      <th>Latitude</th>\n",
       "      <th>Longitude</th>\n",
       "      <th>Lon_Lat</th>\n",
       "      <th>zip_code</th>\n",
       "      <th>ARREST_DATE_STR</th>\n",
       "      <th>ARREST_DATE_WEEK</th>\n",
       "      <th>ARREST_DATE_YEAR</th>\n",
       "    </tr>\n",
       "  </thead>\n",
       "  <tbody>\n",
       "    <tr>\n",
       "      <th>0</th>\n",
       "      <td>172618699</td>\n",
       "      <td>2017-12-14</td>\n",
       "      <td>665.0</td>\n",
       "      <td>NaN</td>\n",
       "      <td>NaN</td>\n",
       "      <td>NaN</td>\n",
       "      <td>PL 490201T</td>\n",
       "      <td>F</td>\n",
       "      <td>Q</td>\n",
       "      <td>101</td>\n",
       "      <td>...</td>\n",
       "      <td>BLACK</td>\n",
       "      <td>1043468.0</td>\n",
       "      <td>156096.0</td>\n",
       "      <td>40.594934</td>\n",
       "      <td>-73.786770</td>\n",
       "      <td>POINT (-73.78677035399994 40.594934055000074)</td>\n",
       "      <td>11692</td>\n",
       "      <td>2017-12-14</td>\n",
       "      <td>50</td>\n",
       "      <td>2017</td>\n",
       "    </tr>\n",
       "    <tr>\n",
       "      <th>1</th>\n",
       "      <td>172629684</td>\n",
       "      <td>2017-12-14</td>\n",
       "      <td>101.0</td>\n",
       "      <td>ASSAULT 3</td>\n",
       "      <td>344.0</td>\n",
       "      <td>ASSAULT 3 &amp; RELATED OFFENSES</td>\n",
       "      <td>PL 1200001</td>\n",
       "      <td>M</td>\n",
       "      <td>M</td>\n",
       "      <td>33</td>\n",
       "      <td>...</td>\n",
       "      <td>WHITE HISPANIC</td>\n",
       "      <td>1000917.0</td>\n",
       "      <td>245710.0</td>\n",
       "      <td>40.841085</td>\n",
       "      <td>-73.939765</td>\n",
       "      <td>POINT (-73.93976522599996 40.841084919000025)</td>\n",
       "      <td>10032</td>\n",
       "      <td>2017-12-14</td>\n",
       "      <td>50</td>\n",
       "      <td>2017</td>\n",
       "    </tr>\n",
       "    <tr>\n",
       "      <th>2</th>\n",
       "      <td>172456904</td>\n",
       "      <td>2017-12-10</td>\n",
       "      <td>175.0</td>\n",
       "      <td>SEXUAL ABUSE 3,2</td>\n",
       "      <td>233.0</td>\n",
       "      <td>SEX CRIMES</td>\n",
       "      <td>PL 13052A1</td>\n",
       "      <td>M</td>\n",
       "      <td>Q</td>\n",
       "      <td>106</td>\n",
       "      <td>...</td>\n",
       "      <td>WHITE</td>\n",
       "      <td>1028713.0</td>\n",
       "      <td>187853.0</td>\n",
       "      <td>40.682186</td>\n",
       "      <td>-73.839690</td>\n",
       "      <td>POINT (-73.83969048299997 40.68218640100008)</td>\n",
       "      <td>11419</td>\n",
       "      <td>2017-12-10</td>\n",
       "      <td>49</td>\n",
       "      <td>2017</td>\n",
       "    </tr>\n",
       "    <tr>\n",
       "      <th>3</th>\n",
       "      <td>172998579</td>\n",
       "      <td>2017-12-27</td>\n",
       "      <td>101.0</td>\n",
       "      <td>ASSAULT 3</td>\n",
       "      <td>344.0</td>\n",
       "      <td>ASSAULT 3 &amp; RELATED OFFENSES</td>\n",
       "      <td>PL 1200001</td>\n",
       "      <td>M</td>\n",
       "      <td>Q</td>\n",
       "      <td>110</td>\n",
       "      <td>...</td>\n",
       "      <td>BLACK</td>\n",
       "      <td>1020237.0</td>\n",
       "      <td>210724.0</td>\n",
       "      <td>40.745000</td>\n",
       "      <td>-73.870128</td>\n",
       "      <td>POINT (-73.87012832399995 40.74500029700005)</td>\n",
       "      <td>11373</td>\n",
       "      <td>2017-12-27</td>\n",
       "      <td>52</td>\n",
       "      <td>2017</td>\n",
       "    </tr>\n",
       "    <tr>\n",
       "      <th>4</th>\n",
       "      <td>172648369</td>\n",
       "      <td>2017-12-15</td>\n",
       "      <td>475.0</td>\n",
       "      <td>NaN</td>\n",
       "      <td>NaN</td>\n",
       "      <td>NaN</td>\n",
       "      <td>PL 1651601</td>\n",
       "      <td>M</td>\n",
       "      <td>Q</td>\n",
       "      <td>103</td>\n",
       "      <td>...</td>\n",
       "      <td>BLACK</td>\n",
       "      <td>1039726.0</td>\n",
       "      <td>195270.0</td>\n",
       "      <td>40.702482</td>\n",
       "      <td>-73.799922</td>\n",
       "      <td>POINT (-73.799922252 40.702482133000046)</td>\n",
       "      <td>11435</td>\n",
       "      <td>2017-12-15</td>\n",
       "      <td>50</td>\n",
       "      <td>2017</td>\n",
       "    </tr>\n",
       "  </tbody>\n",
       "</table>\n",
       "<p>5 rows × 23 columns</p>\n",
       "</div>"
      ],
      "text/plain": [
       "   ARREST_KEY ARREST_DATE  PD_CD           PD_DESC  KY_CD  \\\n",
       "0   172618699  2017-12-14  665.0               NaN    NaN   \n",
       "1   172629684  2017-12-14  101.0         ASSAULT 3  344.0   \n",
       "2   172456904  2017-12-10  175.0  SEXUAL ABUSE 3,2  233.0   \n",
       "3   172998579  2017-12-27  101.0         ASSAULT 3  344.0   \n",
       "4   172648369  2017-12-15  475.0               NaN    NaN   \n",
       "\n",
       "                      OFNS_DESC    LAW_CODE LAW_CAT_CD ARREST_BORO  \\\n",
       "0                           NaN  PL 490201T          F           Q   \n",
       "1  ASSAULT 3 & RELATED OFFENSES  PL 1200001          M           M   \n",
       "2                    SEX CRIMES  PL 13052A1          M           Q   \n",
       "3  ASSAULT 3 & RELATED OFFENSES  PL 1200001          M           Q   \n",
       "4                           NaN  PL 1651601          M           Q   \n",
       "\n",
       "   ARREST_PRECINCT  ...       PERP_RACE X_COORD_CD Y_COORD_CD   Latitude  \\\n",
       "0              101  ...           BLACK  1043468.0   156096.0  40.594934   \n",
       "1               33  ...  WHITE HISPANIC  1000917.0   245710.0  40.841085   \n",
       "2              106  ...           WHITE  1028713.0   187853.0  40.682186   \n",
       "3              110  ...           BLACK  1020237.0   210724.0  40.745000   \n",
       "4              103  ...           BLACK  1039726.0   195270.0  40.702482   \n",
       "\n",
       "   Longitude                                        Lon_Lat  zip_code  \\\n",
       "0 -73.786770  POINT (-73.78677035399994 40.594934055000074)     11692   \n",
       "1 -73.939765  POINT (-73.93976522599996 40.841084919000025)     10032   \n",
       "2 -73.839690   POINT (-73.83969048299997 40.68218640100008)     11419   \n",
       "3 -73.870128   POINT (-73.87012832399995 40.74500029700005)     11373   \n",
       "4 -73.799922       POINT (-73.799922252 40.702482133000046)     11435   \n",
       "\n",
       "   ARREST_DATE_STR ARREST_DATE_WEEK ARREST_DATE_YEAR  \n",
       "0       2017-12-14               50             2017  \n",
       "1       2017-12-14               50             2017  \n",
       "2       2017-12-10               49             2017  \n",
       "3       2017-12-27               52             2017  \n",
       "4       2017-12-15               50             2017  \n",
       "\n",
       "[5 rows x 23 columns]"
      ]
     },
     "execution_count": 5,
     "metadata": {},
     "output_type": "execute_result"
    }
   ],
   "source": [
    "all_crimes_full_df.head()"
   ]
  },
  {
   "cell_type": "code",
   "execution_count": null,
   "metadata": {},
   "outputs": [],
   "source": [
    "# add average arrests by year\n",
    "crime_by_zip = all_crimes_full_df.groupby(['zip_code', 'ARREST_DATE_YEAR'], as_index=False).agg({'ARREST_KEY': 'count'})\n",
    "crime_by_zip = crime_by_zip[(crime_by_zip.ARREST_DATE_YEAR > 2016) & (crime_by_zip.ARREST_DATE_YEAR < 2020)]\n",
    "crime_by_zip.columns = ['zipcode','year','total_arrest_count']\n",
    "crime_by_zip.shape"
   ]
  },
  {
   "cell_type": "code",
   "execution_count": null,
   "metadata": {},
   "outputs": [],
   "source": [
    "crime_by_zip"
   ]
  },
  {
   "cell_type": "code",
   "execution_count": null,
   "metadata": {},
   "outputs": [],
   "source": [
    "zhvi_grouped_filtered = zhvi_grouped[(zhvi_grouped.date_year > 2016) & (zhvi_grouped.date_year < 2020)].copy()\n",
    "print(zhvi_grouped_filtered.shape)"
   ]
  },
  {
   "cell_type": "code",
   "execution_count": null,
   "metadata": {},
   "outputs": [],
   "source": [
    "full_df = zhvi_grouped_filtered.merge(crime_by_zip, left_on=['zipcode','date_year'], right_on=['zipcode','year'], how='inner')\n",
    "full_df.drop(['date_year'], inplace=True, axis=1)\n",
    "full_df.head()"
   ]
  },
  {
   "cell_type": "code",
   "execution_count": null,
   "metadata": {},
   "outputs": [],
   "source": [
    "full_df['mean_zhvi'].corr(full_df['total_arrest_count'])"
   ]
  },
  {
   "cell_type": "code",
   "execution_count": null,
   "metadata": {},
   "outputs": [],
   "source": [
    "alt.Chart(full_df).mark_point().encode(\n",
    "    x=alt.X('mean_zhvi'),\n",
    "    y=alt.Y('total_arrest_count'),\n",
    "    color='year')"
   ]
  },
  {
   "cell_type": "markdown",
   "metadata": {},
   "source": [
    "Maybe arrests to be adjusted to per capita to scale for the different sizes of zip codes\n",
    "\n",
    "http://www.usa.com/rank/new-york-state--population-density--zip-code-rank.htm"
   ]
  },
  {
   "cell_type": "code",
   "execution_count": null,
   "metadata": {},
   "outputs": [],
   "source": [
    "pop_by_zip_df = pd.read_csv(os.path.join('..','data','cleaned_data','population_by_zip.csv'))\n",
    "pop_by_zip_df.columns=['zipcode','population']\n",
    "pop_by_zip_df['population_int'] = pop_by_zip_df['population'].apply(lambda a: int(a.replace(',','')))\n",
    "pop_by_zip_df.drop(['population'], inplace=True, axis=1)\n",
    "pop_by_zip_df['zipcode'] = pop_by_zip_df['zipcode'].astype(str).str[:5]\n",
    "pop_by_zip_df.head()"
   ]
  },
  {
   "cell_type": "code",
   "execution_count": null,
   "metadata": {},
   "outputs": [],
   "source": [
    "full_df = full_df.merge(pop_by_zip_df, left_on=['zipcode'], right_on=['zipcode'], how='left')\n",
    "full_df['arrest_per_capita'] = full_df['total_arrest_count'] / full_df['population_int']\n",
    "full_df.head()"
   ]
  },
  {
   "cell_type": "code",
   "execution_count": null,
   "metadata": {},
   "outputs": [],
   "source": [
    "alt.Chart(full_df).mark_point().encode(\n",
    "    x=alt.X('mean_zhvi'),\n",
    "    y=alt.Y('arrest_per_capita'),\n",
    "    color='year:N',\n",
    "    tooltip=['zipcode'])"
   ]
  },
  {
   "cell_type": "code",
   "execution_count": null,
   "metadata": {},
   "outputs": [],
   "source": [
    "full_df['mean_zhvi'].corr(full_df['arrest_per_capita'])"
   ]
  },
  {
   "cell_type": "markdown",
   "metadata": {},
   "source": [
    "## Correlation Between Types of Arrest and ZHVI"
   ]
  },
  {
   "cell_type": "markdown",
   "metadata": {},
   "source": [
    "#### Misdemeanors"
   ]
  },
  {
   "cell_type": "code",
   "execution_count": null,
   "metadata": {},
   "outputs": [],
   "source": [
    "misdemeanor_crime_by_zip = all_crimes_full_df[all_crimes_full_df.LAW_CAT_CD == 'M'].groupby(['zip_code', 'ARREST_DATE_YEAR'], as_index=False).agg({'ARREST_KEY': 'count'})\n",
    "misdemeanor_crime_by_zip = misdemeanor_crime_by_zip[(misdemeanor_crime_by_zip.ARREST_DATE_YEAR > 2016) & \n",
    "                                                    (misdemeanor_crime_by_zip.ARREST_DATE_YEAR < 2020)]\n",
    "misdemeanor_crime_by_zip.columns = ['zipcode','year','total_arrest_count']\n",
    "misdemeanor_crime_by_zip.shape"
   ]
  },
  {
   "cell_type": "code",
   "execution_count": null,
   "metadata": {},
   "outputs": [],
   "source": [
    "m_full_df = zhvi_grouped_filtered.merge(misdemeanor_crime_by_zip, left_on=['zipcode','date_year'], right_on=['zipcode','year'], how='inner')\n",
    "m_full_df.drop(['date_year'], inplace=True, axis=1)\n",
    "m_full_df.head()"
   ]
  },
  {
   "cell_type": "code",
   "execution_count": null,
   "metadata": {},
   "outputs": [],
   "source": [
    "m_full_df['mean_zhvi'].corr(m_full_df['total_arrest_count'])"
   ]
  },
  {
   "cell_type": "code",
   "execution_count": null,
   "metadata": {},
   "outputs": [],
   "source": [
    "m_full_df = m_full_df.merge(pop_by_zip_df, left_on=['zipcode'], right_on=['zipcode'], how='left')\n",
    "m_full_df['arrest_per_capita'] = m_full_df['total_arrest_count'] / m_full_df['population_int']\n",
    "m_full_df.head()"
   ]
  },
  {
   "cell_type": "code",
   "execution_count": null,
   "metadata": {},
   "outputs": [],
   "source": [
    "m_full_df['mean_zhvi'].corr(m_full_df['arrest_per_capita'])"
   ]
  },
  {
   "cell_type": "markdown",
   "metadata": {},
   "source": [
    "#### Felonies"
   ]
  },
  {
   "cell_type": "code",
   "execution_count": null,
   "metadata": {},
   "outputs": [],
   "source": [
    "felony_crime_by_zip = all_crimes_full_df[all_crimes_full_df.LAW_CAT_CD == 'F'].groupby(['zip_code', 'ARREST_DATE_YEAR'], as_index=False).agg({'ARREST_KEY': 'count'})\n",
    "felony_crime_by_zip = felony_crime_by_zip[(felony_crime_by_zip.ARREST_DATE_YEAR > 2016) & \n",
    "                                                    (felony_crime_by_zip.ARREST_DATE_YEAR < 2020)]\n",
    "felony_crime_by_zip.columns = ['zipcode','year','total_arrest_count']\n",
    "felony_crime_by_zip.shape"
   ]
  },
  {
   "cell_type": "code",
   "execution_count": null,
   "metadata": {},
   "outputs": [],
   "source": [
    "f_full_df = zhvi_grouped_filtered.merge(felony_crime_by_zip, left_on=['zipcode','date_year'], right_on=['zipcode','year'], how='inner')\n",
    "f_full_df.drop(['date_year'], inplace=True, axis=1)\n",
    "f_full_df.head()"
   ]
  },
  {
   "cell_type": "code",
   "execution_count": null,
   "metadata": {},
   "outputs": [],
   "source": [
    "f_full_df['mean_zhvi'].corr(f_full_df['total_arrest_count'])"
   ]
  },
  {
   "cell_type": "code",
   "execution_count": null,
   "metadata": {},
   "outputs": [],
   "source": [
    "f_full_df = f_full_df.merge(pop_by_zip_df, left_on=['zipcode'], right_on=['zipcode'], how='left')\n",
    "f_full_df['arrest_per_capita'] = f_full_df['total_arrest_count'] / f_full_df['population_int']\n",
    "f_full_df.head()"
   ]
  },
  {
   "cell_type": "code",
   "execution_count": null,
   "metadata": {},
   "outputs": [],
   "source": [
    "f_full_df['mean_zhvi'].corr(f_full_df['arrest_per_capita'])"
   ]
  },
  {
   "cell_type": "markdown",
   "metadata": {},
   "source": [
    "## Correlation with Crime Last Year"
   ]
  },
  {
   "cell_type": "code",
   "execution_count": null,
   "metadata": {},
   "outputs": [],
   "source": [
    "zhvi_grouped_filtered_last_year = zhvi_grouped_filtered.copy()\n",
    "zhvi_grouped_filtered_last_year['date_year_last_year'] = zhvi_grouped_filtered_last_year['date_year'] - 1\n",
    "zhvi_grouped_filtered_last_year.head()"
   ]
  },
  {
   "cell_type": "code",
   "execution_count": null,
   "metadata": {},
   "outputs": [],
   "source": [
    "full_df_lagged = zhvi_grouped_filtered_last_year.merge(crime_by_zip, left_on=['zipcode','date_year_last_year'], right_on=['zipcode','year'], how='inner')\n",
    "full_df_lagged.drop(['date_year', 'year'], inplace=True, axis=1)\n",
    "full_df_lagged.head()"
   ]
  },
  {
   "cell_type": "code",
   "execution_count": null,
   "metadata": {},
   "outputs": [],
   "source": [
    "full_df_lagged = full_df_lagged.merge(pop_by_zip_df, left_on=['zipcode'], right_on=['zipcode'], how='left')\n",
    "full_df_lagged['arrest_per_capita'] = full_df_lagged['total_arrest_count'] / full_df_lagged['population_int']\n",
    "full_df_lagged.head()"
   ]
  },
  {
   "cell_type": "code",
   "execution_count": null,
   "metadata": {},
   "outputs": [],
   "source": [
    "corr = full_df_lagged['mean_zhvi'].corr(full_df_lagged['arrest_per_capita'])\n",
    "print(f'Correlation between ZHVI and prior year crime count per capita {corr:.2f}\\n')\n",
    "\n",
    "alt.Chart(full_df_lagged).mark_point().encode(\n",
    "    x=alt.X('mean_zhvi'),\n",
    "    y=alt.Y('arrest_per_capita'),\n",
    "    color='date_year_last_year:N',\n",
    "    tooltip=['zipcode'])"
   ]
  },
  {
   "cell_type": "markdown",
   "metadata": {},
   "source": [
    "## OLS with Arrest Rate to Predict ZHVI"
   ]
  },
  {
   "cell_type": "code",
   "execution_count": null,
   "metadata": {},
   "outputs": [],
   "source": [
    "from sklearn.linear_model import LinearRegression\n",
    "import numpy as np"
   ]
  },
  {
   "cell_type": "code",
   "execution_count": null,
   "metadata": {},
   "outputs": [],
   "source": [
    "# get linear model coefficients and slope\n",
    "linear_full_df = full_df.copy()\n",
    "linear_full_df.fillna(method='bfill', inplace=True)\n",
    "\n",
    "linear_model = LinearRegression()\n",
    "linear_model.fit(np.array(linear_full_df['arrest_per_capita']).reshape(-1, 1), np.array(linear_full_df['mean_zhvi']).reshape(-1, 1))"
   ]
  },
  {
   "cell_type": "code",
   "execution_count": null,
   "metadata": {},
   "outputs": [],
   "source": [
    "arrest_list = list(np.linspace(start=full_df['arrest_per_capita'].min(), stop=full_df['arrest_per_capita'].max(), num=1000))\n",
    "zhvi_list = [((a*linear_model.coef_) + linear_model.intercept_).item() for a in arrest_list]\n",
    "linear_output_df = pd.DataFrame({'zhvi_list': zhvi_list, 'arrest_list': arrest_list})\n",
    "linear_output_df.head()"
   ]
  },
  {
   "cell_type": "code",
   "execution_count": null,
   "metadata": {},
   "outputs": [],
   "source": [
    "corr = full_df['mean_zhvi'].corr(full_df['arrest_per_capita'])\n",
    "print(f'Correlation between ZHVI and prior year crime count per capita {corr:.4f}\\n')\n",
    "\n",
    "c1 = alt.Chart(full_df).mark_point().encode(\n",
    "    x=alt.X('mean_zhvi'),\n",
    "    y=alt.Y('arrest_per_capita'),\n",
    "    color='year:N',\n",
    "    tooltip=['zipcode'])\n",
    "\n",
    "c2 = alt.Chart(linear_output_df).mark_line(color='black').encode(\n",
    "    x=alt.X('zhvi_list'),\n",
    "    y=alt.Y('arrest_list'))\n",
    "\n",
    "c1+c2"
   ]
  },
  {
   "cell_type": "code",
   "execution_count": null,
   "metadata": {},
   "outputs": [],
   "source": [
    "# residuals\n",
    "\n",
    "preds = linear_model.predict(np.array(linear_full_df['arrest_per_capita']).reshape(-1, 1))\n",
    "actuals = np.array(linear_full_df['mean_zhvi']).reshape(-1, 1)\n",
    "\n",
    "# on average, predictions using only crime rate per capita to predict ZHVI will be off by $250k\n",
    "(np.abs(actuals - preds)).mean()"
   ]
  },
  {
   "cell_type": "code",
   "execution_count": null,
   "metadata": {},
   "outputs": [],
   "source": [
    "from sklearn.metrics import r2_score\n",
    "\n",
    "print(f'r-squared of fitted model: {r2_score(actuals, preds):.3f}')"
   ]
  },
  {
   "cell_type": "code",
   "execution_count": null,
   "metadata": {},
   "outputs": [],
   "source": []
  },
  {
   "cell_type": "markdown",
   "metadata": {},
   "source": [
    "### Test"
   ]
  },
  {
   "cell_type": "code",
   "execution_count": null,
   "metadata": {},
   "outputs": [],
   "source": [
    "test_df = full_df.copy()\n",
    "test_df = test_df[(test_df.mean_zhvi < 1600000) & (test_df.arrest_per_capita < 0.13)].copy()\n",
    "\n",
    "linear_model_test = LinearRegression()\n",
    "linear_model_test.fit(np.array(test_df['arrest_per_capita']).reshape(-1, 1), np.array(test_df['mean_zhvi']).reshape(-1, 1))\n",
    "\n",
    "arrest_list = list(np.linspace(start=test_df['arrest_per_capita'].min(), stop=test_df['arrest_per_capita'].max() * 1.2, num=1000))\n",
    "zhvi_list = [((a*linear_model_test.coef_) + linear_model_test.intercept_).item() for a in arrest_list]\n",
    "linear_output_df = pd.DataFrame({'zhvi_list': zhvi_list, 'arrest_list': arrest_list})\n",
    "linear_output_df.head()\n",
    "\n",
    "corr = test_df['mean_zhvi'].corr(test_df['arrest_per_capita'])\n",
    "print(f'Correlation between ZHVI and prior year crime count per capita {corr:.4f}\\n')\n",
    "\n",
    "c1 = alt.Chart(test_df).mark_point().encode(\n",
    "    x=alt.X('mean_zhvi'),\n",
    "    y=alt.Y('arrest_per_capita'),\n",
    "    color='year:N',\n",
    "    tooltip=['zipcode'])\n",
    "\n",
    "c2 = alt.Chart(linear_output_df).mark_line(color='black').encode(\n",
    "    x=alt.X('zhvi_list'),\n",
    "    y=alt.Y('arrest_list'))\n",
    "\n",
    "c1+c2"
   ]
  },
  {
   "cell_type": "code",
   "execution_count": null,
   "metadata": {},
   "outputs": [],
   "source": []
  }
 ],
 "metadata": {
  "kernelspec": {
   "display_name": "umads_venv",
   "language": "python",
   "name": "umads_venv"
  },
  "language_info": {
   "codemirror_mode": {
    "name": "ipython",
    "version": 3
   },
   "file_extension": ".py",
   "mimetype": "text/x-python",
   "name": "python",
   "nbconvert_exporter": "python",
   "pygments_lexer": "ipython3",
   "version": "3.7.4"
  }
 },
 "nbformat": 4,
 "nbformat_minor": 4
}
