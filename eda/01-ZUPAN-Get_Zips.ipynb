{
 "cells": [
  {
   "cell_type": "code",
   "execution_count": null,
   "metadata": {},
   "outputs": [],
   "source": []
  },
  {
   "cell_type": "code",
   "execution_count": null,
   "metadata": {},
   "outputs": [],
   "source": [
    "import pandas as pd\n",
    "import os\n",
    "\n",
    "import datetime\n",
    "import geopy\n",
    "import geopy.distance"
   ]
  },
  {
   "cell_type": "code",
   "execution_count": null,
   "metadata": {},
   "outputs": [],
   "source": [
    "ytd_data_path = os.path.join('..', 'data','NYPD_Arrest_Data__Year_to_Date_.csv')\n",
    "crime_df = pd.read_csv(ytd_data_path, nrows=50)\n",
    "print(crime_df.shape)\n",
    "crime_df.head()"
   ]
  },
  {
   "cell_type": "code",
   "execution_count": null,
   "metadata": {},
   "outputs": [],
   "source": [
    "full_df_path: str = os.path.join('..', 'data', 'NYPD_Arrests_Data__Historic_.csv')\n",
    "sample_df = pd.read_csv(full_df_path, parse_dates=[1], infer_datetime_format=True, nrows=5)\n",
    "chunksize: int = 10 ** 5\n",
    "column_names= list(sample_df)\n",
    "\n",
    "    \n",
    "def parse_crime_df(file_path: str, year: int, chunksize: int) -> pd.DataFrame:\n",
    "    \"\"\"Reads the csv in `chunksize` pieces.  Filters csv to only keep crimes committed in `year`.\n",
    "       Returns a pandas dataframe with all crimes from the selected year.\n",
    "    \"\"\"\n",
    "    base_df = pd.DataFrame(columns=column_names)\n",
    "    with pd.read_csv(full_df_path, parse_dates=[1], infer_datetime_format=True, chunksize=chunksize) as reader:\n",
    "        for chunk in reader:\n",
    "            filtered_df = chunk[chunk.ARREST_DATE.dt.year == year].copy()\n",
    "            base_df = base_df.append(filtered_df)\n",
    "    return base_df"
   ]
  },
  {
   "cell_type": "code",
   "execution_count": null,
   "metadata": {},
   "outputs": [],
   "source": [
    "print(f'Start Time: {datetime.datetime.now()}\\n')\n",
    "\n",
    "filtered_2018_df = parse_crime_df(file_path=full_df_path, year=2018, chunksize=chunksize)\n",
    "\n",
    "print(f'Finish Time: {datetime.datetime.now()}\\n')\n",
    "\n",
    "print(f'DF shape: {filtered_2018_df.shape}')"
   ]
  },
  {
   "cell_type": "code",
   "execution_count": null,
   "metadata": {},
   "outputs": [],
   "source": [
    "print(f'Start Time: {datetime.datetime.now()}\\n')\n",
    "\n",
    "filtered_2019_df = parse_crime_df(file_path=full_df_path, year=2019, chunksize=chunksize)\n",
    "\n",
    "print(f'Finish Time: {datetime.datetime.now()}\\n')\n",
    "\n",
    "print(f'DF shape: {filtered_2019_df.shape}')"
   ]
  },
  {
   "cell_type": "code",
   "execution_count": null,
   "metadata": {},
   "outputs": [],
   "source": [
    "print(f'Start Time: {datetime.datetime.now()}\\n')\n",
    "\n",
    "filtered_2017_df = parse_crime_df(file_path=full_df_path, year=2017, chunksize=chunksize)\n",
    "\n",
    "print(f'Finish Time: {datetime.datetime.now()}\\n')\n",
    "\n",
    "print(f'DF shape: {filtered_2017_df.shape}')"
   ]
  },
  {
   "cell_type": "code",
   "execution_count": null,
   "metadata": {},
   "outputs": [],
   "source": []
  },
  {
   "cell_type": "code",
   "execution_count": null,
   "metadata": {},
   "outputs": [],
   "source": []
  },
  {
   "cell_type": "code",
   "execution_count": null,
   "metadata": {},
   "outputs": [],
   "source": [
    "# def get_zipcode(df, geolocator, lat_field, lon_field):\n",
    "#     location = geolocator.reverse((df[lat_field], df[lon_field]))\n",
    "#     return location.raw['address']['postcode']\n",
    "\n",
    "# geolocator = geopy.Nominatim(user_agent='umads_591')"
   ]
  },
  {
   "cell_type": "code",
   "execution_count": null,
   "metadata": {},
   "outputs": [],
   "source": [
    "# print(f'Time: {datetime.datetime.now()}\\n')\n",
    "# zipcodes = crime_df.apply(get_zipcode, axis=1, geolocator=geolocator, lat_field='Latitude', lon_field='Longitude')\n",
    "# print(f'Time: {datetime.datetime.now()}\\n')"
   ]
  },
  {
   "cell_type": "code",
   "execution_count": null,
   "metadata": {},
   "outputs": [],
   "source": []
  },
  {
   "cell_type": "code",
   "execution_count": null,
   "metadata": {},
   "outputs": [],
   "source": [
    "ny_addresses = pd.read_csv(os.path.join('..', 'data', 'city_of_new_york.csv'))\n",
    "ny_addresses.head()"
   ]
  },
  {
   "cell_type": "code",
   "execution_count": null,
   "metadata": {},
   "outputs": [],
   "source": [
    "filtered_2018_df.reset_index(inplace=True, drop=True)\n",
    "filtered_2018_df.head()"
   ]
  },
  {
   "cell_type": "code",
   "execution_count": null,
   "metadata": {},
   "outputs": [],
   "source": []
  },
  {
   "cell_type": "code",
   "execution_count": null,
   "metadata": {},
   "outputs": [],
   "source": [
    "# brute force\n",
    "\n",
    "def get_crime_zip_codes(crime_df: pd.DataFrame, address_lookup_df: pd.DataFrame, min_distance_threshold: float = 1.0, \n",
    "                        print_rate:int = 1, verbose: bool=False):\n",
    "    \"\"\"\"\"\"\n",
    "    for crime_idx, crime in crime_df.iterrows():\n",
    "        if crime_idx % print_rate == 0:\n",
    "            print(f'Starting on crime index {crime_idx}')\n",
    "        crime_lat = crime.Latitude\n",
    "        crime_long = crime.Longitude\n",
    "        for address_idx, address in address_lookup_df.iterrows():\n",
    "            address_lat = address.LAT\n",
    "            address_long = address.LON\n",
    "            distance = geopy.distance.distance((crime.Latitude, crime.Longitude), (address.LAT, address.LON)).miles\n",
    "            if verbose:\n",
    "                print(f'Address: {address_idx} Distance: {distance}')\n",
    "            if distance < min_distance_threshold:\n",
    "                crime_df.loc[crime_idx, 'crime_zip_code'] = address.POSTCODE\n",
    "                break\n",
    "    return crime_df"
   ]
  },
  {
   "cell_type": "code",
   "execution_count": null,
   "metadata": {},
   "outputs": [],
   "source": [
    "filtered_2018_df_sample = filtered_2018_df.loc[:10,:].copy()\n",
    "get_crime_zip_codes(crime_df=filtered_2018_df_sample, address_lookup_df=ny_addresses, min_distance_threshold=1.0, print_rate=1, verbose=False)"
   ]
  },
  {
   "cell_type": "code",
   "execution_count": null,
   "metadata": {},
   "outputs": [],
   "source": []
  },
  {
   "cell_type": "markdown",
   "metadata": {},
   "source": [
    "Things to do:\n",
    "\n",
    "1. Append zip code to every crime\n",
    "\n",
    "2. EDA/Summary stats on crime at the zip code level\n",
    "    * total counts\n",
    "    * counts by type\n",
    "    * crime by month/day of week\n",
    "\n",
    "3. Correlation between counts of crime and housing price\n",
    "    * year-to-year and lagged?\n",
    "    \n",
    "    "
   ]
  },
  {
   "cell_type": "code",
   "execution_count": null,
   "metadata": {},
   "outputs": [],
   "source": []
  }
 ],
 "metadata": {
  "kernelspec": {
   "display_name": "umads_venv",
   "language": "python",
   "name": "umads_venv"
  },
  "language_info": {
   "codemirror_mode": {
    "name": "ipython",
    "version": 3
   },
   "file_extension": ".py",
   "mimetype": "text/x-python",
   "name": "python",
   "nbconvert_exporter": "python",
   "pygments_lexer": "ipython3",
   "version": "3.7.4"
  }
 },
 "nbformat": 4,
 "nbformat_minor": 4
}
