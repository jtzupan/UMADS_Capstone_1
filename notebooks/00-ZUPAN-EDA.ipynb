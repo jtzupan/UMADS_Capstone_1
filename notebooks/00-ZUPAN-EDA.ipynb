{
 "cells": [
  {
   "cell_type": "markdown",
   "metadata": {},
   "source": [
    "# EDA"
   ]
  },
  {
   "cell_type": "code",
   "execution_count": null,
   "metadata": {},
   "outputs": [],
   "source": [
    "# check that the notebook is using the correct virtual environment\n",
    "# if you dont call it `umads_venv`, change the assertion\n",
    "\n",
    "import sys\n",
    "venv = sys.executable.split('/')[-3]\n",
    "assert venv == 'umads_venv'"
   ]
  },
  {
   "cell_type": "code",
   "execution_count": null,
   "metadata": {},
   "outputs": [],
   "source": [
    "import pandas as pd\n",
    "import os\n",
    "import altair as alt"
   ]
  },
  {
   "cell_type": "markdown",
   "metadata": {},
   "source": [
    "# NY Arrest Data Set"
   ]
  },
  {
   "cell_type": "code",
   "execution_count": null,
   "metadata": {},
   "outputs": [],
   "source": [
    "crime_2017_df = pd.read_csv(os.path.join('..', 'data', 'cleaned_data', 'ny_crimes_2017.csv'))\n",
    "crime_2018_df = pd.read_csv(os.path.join('..', 'data', 'cleaned_data', 'ny_crimes_2018.csv'))\n",
    "crime_2019_df = pd.read_csv(os.path.join('..', 'data', 'cleaned_data', 'ny_crimes_2019.csv'))\n",
    "\n",
    "print(f'2017 crime df shape: {crime_2017_df.shape}')\n",
    "print(f'2018 crime df shape: {crime_2018_df.shape}')\n",
    "print(f'2019 crime df shape: {crime_2019_df.shape}')"
   ]
  },
  {
   "cell_type": "code",
   "execution_count": null,
   "metadata": {},
   "outputs": [],
   "source": [
    "crime_2017_df.head()"
   ]
  },
  {
   "cell_type": "code",
   "execution_count": null,
   "metadata": {},
   "outputs": [],
   "source": [
    "# format date string\n",
    "\n",
    "crime_2017_df['ARREST_DATE_STR'] = crime_2017_df['ARREST_DATE'].copy()\n",
    "crime_2017_df['ARREST_DATE'] = pd.to_datetime(crime_2017_df['ARREST_DATE_STR']).copy()\n",
    "crime_2017_df['ARREST_DATE_WEEK'] = crime_2017_df['ARREST_DATE'].dt.isocalendar().week\n",
    "crime_2017_df.info()"
   ]
  },
  {
   "cell_type": "code",
   "execution_count": null,
   "metadata": {},
   "outputs": [],
   "source": [
    "# nothing interesting here\n",
    "crime_2017_df.describe()"
   ]
  },
  {
   "cell_type": "markdown",
   "metadata": {},
   "source": [
    "### High Level Numbers"
   ]
  },
  {
   "cell_type": "code",
   "execution_count": null,
   "metadata": {},
   "outputs": [],
   "source": [
    "print(f'Crimes in 2017: {crime_2017_df.shape[0]:,}')\n",
    "print(f'Total Zip Codes in Data Set: {len(crime_2017_df.zip_code.unique())}')\n",
    "print(f'Unique Crime Types: {len(crime_2017_df.PD_CD.unique())}')\n",
    "print(f'')\n"
   ]
  },
  {
   "cell_type": "markdown",
   "metadata": {},
   "source": [
    "### Crimes by Zip Code "
   ]
  },
  {
   "cell_type": "code",
   "execution_count": null,
   "metadata": {},
   "outputs": [],
   "source": [
    "crime_by_zip = crime_2017_df.groupby(['zip_code'], as_index=False).agg({'ARREST_KEY': 'count'}).sort_values(by='ARREST_KEY', ascending=False)\n",
    "crime_by_zip['Average_Arrests'] = crime_by_zip.ARREST_KEY.mean()\n",
    "crime_by_zip"
   ]
  },
  {
   "cell_type": "code",
   "execution_count": null,
   "metadata": {},
   "outputs": [],
   "source": [
    "# anything under the line has less than average crime, anything over has more\n",
    "\n",
    "alt.Chart(crime_by_zip).mark_bar().encode(\n",
    "    x=alt.X('zip_code:O', sort=alt.EncodingSortField('y', order='descending')),\n",
    "    y=alt.Y('ARREST_KEY'),\n",
    "    y2=alt.Y2('Average_Arrests'))"
   ]
  },
  {
   "cell_type": "code",
   "execution_count": null,
   "metadata": {},
   "outputs": [],
   "source": [
    "# fewest arrests of the year on Christmas, makes sense\n",
    "\n",
    "crime_by_day = crime_2017_df.groupby(['ARREST_DATE'], as_index=False).agg({'ARREST_KEY': 'count'}).sort_values(by='ARREST_KEY', ascending=False)\n",
    "crime_by_day"
   ]
  },
  {
   "cell_type": "code",
   "execution_count": null,
   "metadata": {},
   "outputs": [],
   "source": [
    "# arrests usually lowest on weekends\n",
    "# arrest decrase throughout the week\n",
    "\n",
    "alt.Chart(crime_by_day).mark_bar().encode(\n",
    "    x=alt.X('ARREST_DATE:O'),\n",
    "    y=alt.Y('ARREST_KEY'))"
   ]
  },
  {
   "cell_type": "code",
   "execution_count": null,
   "metadata": {},
   "outputs": [],
   "source": [
    "# most to least common crimes\n",
    "\n",
    "crime_2017_df.PD_DESC.value_counts()"
   ]
  },
  {
   "cell_type": "code",
   "execution_count": null,
   "metadata": {},
   "outputs": [],
   "source": [
    "# crime by week by zip\n",
    "# randomly split zip codes into 2 groups to keep data small enough for altair\n",
    "\n",
    "week_zip_crime = crime_2017_df.groupby(['zip_code', 'ARREST_DATE_WEEK'], as_index=False).agg({'ARREST_KEY': 'count'})\n",
    "temp1 = week_zip_crime[week_zip_crime.zip_code <= 11218].copy()\n",
    "temp2 = week_zip_crime[week_zip_crime.zip_code > 11218].copy()"
   ]
  },
  {
   "cell_type": "code",
   "execution_count": null,
   "metadata": {},
   "outputs": [],
   "source": [
    "alt.Chart(temp1).mark_rect().encode(\n",
    "    x='zip_code:O',\n",
    "    y='ARREST_DATE_WEEK:O',\n",
    "    color='ARREST_KEY:Q'\n",
    ").properties(width=1200, height=700)"
   ]
  },
  {
   "cell_type": "code",
   "execution_count": null,
   "metadata": {},
   "outputs": [],
   "source": [
    "alt.Chart(temp2).mark_rect().encode(\n",
    "    x='zip_code:O',\n",
    "    y='ARREST_DATE_WEEK:O',\n",
    "    color='ARREST_KEY:Q'\n",
    ").properties(width=1200, height=700)"
   ]
  },
  {
   "cell_type": "markdown",
   "metadata": {},
   "source": [
    "## Crimes by Demographic"
   ]
  },
  {
   "cell_type": "code",
   "execution_count": null,
   "metadata": {},
   "outputs": [],
   "source": [
    "crime_by_age_group = crime_2017_df.groupby(['AGE_GROUP'], as_index=False).agg({'ARREST_KEY': 'count'})"
   ]
  },
  {
   "cell_type": "code",
   "execution_count": null,
   "metadata": {},
   "outputs": [],
   "source": [
    "alt.Chart(crime_by_age_group).mark_bar().encode(\n",
    "    x=alt.X('AGE_GROUP:O', sort=alt.EncodingSortField('y', order='descending')),\n",
    "    y=alt.Y('ARREST_KEY'))"
   ]
  },
  {
   "cell_type": "code",
   "execution_count": null,
   "metadata": {},
   "outputs": [],
   "source": [
    "crime_by_age_sex = crime_2017_df.groupby(['PERP_SEX'], as_index=False).agg({'ARREST_KEY': 'count'})"
   ]
  },
  {
   "cell_type": "code",
   "execution_count": null,
   "metadata": {},
   "outputs": [],
   "source": [
    "alt.Chart(crime_by_age_sex).mark_bar().encode(\n",
    "    x=alt.X('PERP_SEX:O', sort=alt.EncodingSortField('y', order='descending')),\n",
    "    y=alt.Y('ARREST_KEY'))"
   ]
  },
  {
   "cell_type": "code",
   "execution_count": null,
   "metadata": {},
   "outputs": [],
   "source": [
    "crime_by_age_race = crime_2017_df.groupby(['PERP_RACE'], as_index=False).agg({'ARREST_KEY': 'count'})"
   ]
  },
  {
   "cell_type": "code",
   "execution_count": null,
   "metadata": {},
   "outputs": [],
   "source": [
    "alt.Chart(crime_by_age_race).mark_bar().encode(\n",
    "    x=alt.X('PERP_RACE:O', sort=alt.EncodingSortField('y', order='descending')),\n",
    "    y=alt.Y('ARREST_KEY'))"
   ]
  },
  {
   "cell_type": "code",
   "execution_count": null,
   "metadata": {},
   "outputs": [],
   "source": []
  },
  {
   "cell_type": "markdown",
   "metadata": {},
   "source": [
    "Site: https://www.zillow.com/research/data/\n",
    "    \n",
    "HOME VALUES\n",
    "Zillow Home Value Index (ZHVI)\n",
    "by zip, filter down to State=NY, city=NY"
   ]
  },
  {
   "cell_type": "code",
   "execution_count": null,
   "metadata": {},
   "outputs": [],
   "source": [
    "home_value_df = pd.read_csv(os.path.join('..','data','cleaned_data','ny_zhvi.csv'))\n",
    "home_value_df.head()"
   ]
  },
  {
   "cell_type": "code",
   "execution_count": null,
   "metadata": {},
   "outputs": [],
   "source": [
    "home_value_df.drop(['RegionType','StateName','State','City','Metro','CountyName'], inplace=True, axis=1) \n",
    "home_value_df.rename({'RegionName': 'zipcode'}, inplace=True, axis=1)\n",
    "home_value_df.set_index('zipcode',inplace=True)\n",
    "home_value_df.head()"
   ]
  },
  {
   "cell_type": "code",
   "execution_count": null,
   "metadata": {},
   "outputs": [],
   "source": [
    "home_value_df_transposed = home_value_df.T\n",
    "home_value_df_transposed.reset_index(inplace=True)\n",
    "cols = [str(a) for a in list(home_value_df_transposed)]\n",
    "cols[0] = 'date_str'\n",
    "home_value_df_transposed.columns = cols\n",
    "home_value_df_transposed.head(20)"
   ]
  },
  {
   "cell_type": "code",
   "execution_count": null,
   "metadata": {},
   "outputs": [],
   "source": [
    "alt.Chart(home_value_df_transposed[['date_str','10002']]).mark_line().encode(\n",
    "    x=alt.X('date_str:T',sort=None),\n",
    "    y=alt.Y('10002'))"
   ]
  },
  {
   "cell_type": "code",
   "execution_count": null,
   "metadata": {},
   "outputs": [],
   "source": [
    "# add year column\n",
    "# group by year and zip, take mean home value\n",
    "# combine into 1 df\n",
    "# columns: date, zip, price\n",
    "\n",
    "home_value_df_transposed_slim = pd.DataFrame(columns=['date_str', 'mean_zhvi',  'zipcode'])\n",
    "\n",
    "for zip_ in list(home_value_df_transposed):\n",
    "    if zip_ == 'date_str':\n",
    "        continue\n",
    "    current_zip = home_value_df_transposed[['date_str', zip_]].copy()\n",
    "    current_zip['zipcode'] = zip_\n",
    "    current_zip.columns = ['date_str', 'mean_zhvi',  'zipcode']\n",
    "    home_value_df_transposed_slim = home_value_df_transposed_slim.append(current_zip)\n",
    "home_value_df_transposed_slim['mean_zhvi'] = home_value_df_transposed_slim['mean_zhvi'].astype(float)"
   ]
  },
  {
   "cell_type": "code",
   "execution_count": null,
   "metadata": {},
   "outputs": [],
   "source": [
    "home_value_df_transposed_slim['date'] = pd.to_datetime(home_value_df_transposed_slim['date_str'])\n",
    "home_value_df_transposed_slim['date_year'] = home_value_df_transposed_slim['date'].dt.isocalendar().year\n",
    "zhvi_grouped = home_value_df_transposed_slim.groupby(['zipcode', 'date_year'], as_index=False).agg({'mean_zhvi':'mean'})\n",
    "zhvi_grouped['zipcode_max'] = zhvi_grouped.groupby('zipcode')['mean_zhvi'].transform('max')\n",
    "zhvi_grouped.head()"
   ]
  },
  {
   "cell_type": "code",
   "execution_count": null,
   "metadata": {},
   "outputs": [],
   "source": [
    "alt.Chart(zhvi_grouped).mark_line().encode(\n",
    "    x=alt.X('date_year',sort=None),\n",
    "    y=alt.Y('mean_zhvi'),\n",
    "    color='zipcode')"
   ]
  },
  {
   "cell_type": "code",
   "execution_count": null,
   "metadata": {},
   "outputs": [],
   "source": [
    "# remove the top valued zip codes\n",
    "\n",
    "alt.Chart(zhvi_grouped[zhvi_grouped.zipcode_max < 1500000]).mark_line().encode(\n",
    "    x=alt.X('date_year',sort=None),\n",
    "    y=alt.Y('mean_zhvi'),\n",
    "    color='zipcode')"
   ]
  },
  {
   "cell_type": "code",
   "execution_count": null,
   "metadata": {},
   "outputs": [],
   "source": []
  }
 ],
 "metadata": {
  "kernelspec": {
   "display_name": "umads_venv",
   "language": "python",
   "name": "umads_venv"
  },
  "language_info": {
   "codemirror_mode": {
    "name": "ipython",
    "version": 3
   },
   "file_extension": ".py",
   "mimetype": "text/x-python",
   "name": "python",
   "nbconvert_exporter": "python",
   "pygments_lexer": "ipython3",
   "version": "3.7.4"
  }
 },
 "nbformat": 4,
 "nbformat_minor": 4
}
