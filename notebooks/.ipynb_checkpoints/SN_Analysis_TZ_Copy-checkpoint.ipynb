{
 "cells": [
  {
   "cell_type": "code",
   "execution_count": null,
   "metadata": {},
   "outputs": [],
   "source": [
    "import pandas as pd\n",
    "import os\n",
    "import altair as alt\n",
    "import folium\n",
    "import matplotlib.pyplot as plt"
   ]
  },
  {
   "cell_type": "code",
   "execution_count": null,
   "metadata": {},
   "outputs": [],
   "source": [
    "# SN changes\n",
    "# add month\n",
    "# remove .isocalendar()\n",
    "# filter to 2017 and after\n",
    "\n",
    "home_value_df = pd.read_csv(os.path.join('..','data','cleaned_data','ny_zhvi.csv'))\n",
    "home_value_df.drop(['RegionType','StateName','State','City','Metro','CountyName'], inplace=True, axis=1) \n",
    "home_value_df.rename({'RegionName': 'zipcode'}, inplace=True, axis=1)\n",
    "home_value_df.set_index('zipcode',inplace=True)\n",
    "home_value_df_transposed = home_value_df.T\n",
    "home_value_df_transposed.reset_index(inplace=True)\n",
    "cols = [str(a) for a in list(home_value_df_transposed)]\n",
    "cols[0] = 'date_str'\n",
    "home_value_df_transposed.columns = cols\n",
    "\n",
    "\n",
    "home_value_df_transposed_slim = pd.DataFrame(columns=['date_str', 'mean_zhvi',  'zipcode'])\n",
    "\n",
    "for zip_ in list(home_value_df_transposed):\n",
    "    if zip_ == 'date_str':\n",
    "        continue\n",
    "    current_zip = home_value_df_transposed[['date_str', zip_]].copy()\n",
    "    current_zip['zipcode'] = zip_\n",
    "    current_zip.columns = ['date_str', 'mean_zhvi',  'zipcode']\n",
    "    home_value_df_transposed_slim = home_value_df_transposed_slim.append(current_zip)\n",
    "home_value_df_transposed_slim['mean_zhvi'] = home_value_df_transposed_slim['mean_zhvi'].astype(float)\n",
    "\n",
    "home_value_df_transposed_slim['date'] = pd.to_datetime(home_value_df_transposed_slim['date_str'])\n",
    "home_value_df_transposed_slim['date_month'] = home_value_df_transposed_slim['date'].dt.month\n",
    "home_value_df_transposed_slim['date_year'] = home_value_df_transposed_slim['date'].dt.year\n",
    "zhvi_grouped = home_value_df_transposed_slim.groupby(['zipcode', 'date_month','date_year'], as_index=False).agg({'mean_zhvi':'mean'})\n",
    "zhvi_grouped = zhvi_grouped[zhvi_grouped.date_year >= 2017]"
   ]
  },
  {
   "cell_type": "code",
   "execution_count": null,
   "metadata": {},
   "outputs": [],
   "source": [
    "crime_2017_df = pd.read_csv(os.path.join('..', 'data', 'cleaned_data', 'ny_crimes_2017.csv'))\n",
    "crime_2018_df = pd.read_csv(os.path.join('..', 'data', 'cleaned_data', 'ny_crimes_2018.csv'))\n",
    "crime_2019_df = pd.read_csv(os.path.join('..', 'data', 'cleaned_data', 'ny_crimes_2019.csv'))\n",
    "\n",
    "print(f'2017 crime df shape: {crime_2017_df.shape}')\n",
    "print(f'2018 crime df shape: {crime_2018_df.shape}')\n",
    "print(f'2019 crime df shape: {crime_2019_df.shape}')"
   ]
  },
  {
   "cell_type": "code",
   "execution_count": null,
   "metadata": {},
   "outputs": [],
   "source": [
    "all_crimes_full_df = crime_2017_df.append(crime_2018_df)\n",
    "all_crimes_full_df = all_crimes_full_df.append(crime_2019_df)\n",
    "print(all_crimes_full_df.shape)"
   ]
  },
  {
   "cell_type": "code",
   "execution_count": null,
   "metadata": {},
   "outputs": [],
   "source": [
    "all_crimes_full_df['ARREST_DATE_STR'] = all_crimes_full_df['ARREST_DATE'].copy()\n",
    "all_crimes_full_df['ARREST_DATE'] = pd.to_datetime(all_crimes_full_df['ARREST_DATE_STR']).copy()\n",
    "all_crimes_full_df['ARREST_DATE_MONTH'] = all_crimes_full_df['ARREST_DATE'].dt.month\n",
    "all_crimes_full_df['ARREST_DATE_YEAR'] = all_crimes_full_df['ARREST_DATE'].dt.year\n",
    "all_crimes_full_df['zip_code'] = all_crimes_full_df['zip_code'].astype(str)"
   ]
  },
  {
   "cell_type": "code",
   "execution_count": null,
   "metadata": {},
   "outputs": [],
   "source": [
    "# SN changes\n",
    "# add month\n",
    "crime_by_zip = all_crimes_full_df.groupby(['zip_code', 'ARREST_DATE_MONTH','ARREST_DATE_YEAR'], as_index=False).agg({'ARREST_KEY': 'count'})\n",
    "crime_by_zip = crime_by_zip[(crime_by_zip.ARREST_DATE_YEAR > 2016) & (crime_by_zip.ARREST_DATE_YEAR < 2020)]\n",
    "crime_by_zip.columns = ['zipcode','month','year','total_arrest_count']\n",
    "crime_by_zip.shape"
   ]
  },
  {
   "cell_type": "code",
   "execution_count": null,
   "metadata": {},
   "outputs": [],
   "source": [
    "all_crimes_full_df.head()"
   ]
  },
  {
   "cell_type": "code",
   "execution_count": null,
   "metadata": {},
   "outputs": [],
   "source": [
    "crime_by_zip_m = all_crimes_full_df[all_crimes_full_df.LAW_CAT_CD == 'M'].groupby(['zip_code', 'ARREST_DATE_MONTH','ARREST_DATE_YEAR'], as_index=False).agg({'ARREST_KEY': 'count'})\n",
    "crime_by_zip_m = crime_by_zip_m[(crime_by_zip_m.ARREST_DATE_YEAR > 2016) & \n",
    "                                (crime_by_zip_m.ARREST_DATE_YEAR < 2020)]\n",
    "crime_by_zip_m.columns = ['zipcode','month','year','total_arrest_count']\n",
    "crime_by_zip_m.shape"
   ]
  },
  {
   "cell_type": "code",
   "execution_count": null,
   "metadata": {},
   "outputs": [],
   "source": [
    "crime_by_zip_f = all_crimes_full_df[all_crimes_full_df.LAW_CAT_CD == 'F'].groupby(['zip_code', 'ARREST_DATE_MONTH','ARREST_DATE_YEAR'], as_index=False).agg({'ARREST_KEY': 'count'})\n",
    "crime_by_zip_f = crime_by_zip_f[(crime_by_zip_f.ARREST_DATE_YEAR > 2016) & \n",
    "                                (crime_by_zip_f.ARREST_DATE_YEAR < 2020)]\n",
    "crime_by_zip_f.columns = ['zipcode','month','year','total_arrest_count']\n",
    "crime_by_zip_f.shape"
   ]
  },
  {
   "cell_type": "code",
   "execution_count": null,
   "metadata": {},
   "outputs": [],
   "source": [
    "crime_by_zip.head(20)"
   ]
  },
  {
   "cell_type": "code",
   "execution_count": null,
   "metadata": {},
   "outputs": [],
   "source": [
    "zhvi_grouped_filtered = zhvi_grouped[(zhvi_grouped.date_year > 2016) & (zhvi_grouped.date_year < 2020)].copy()\n",
    "print(zhvi_grouped_filtered.shape)"
   ]
  },
  {
   "cell_type": "code",
   "execution_count": null,
   "metadata": {},
   "outputs": [],
   "source": [
    "crime_by_zip[(crime_by_zip.month==1) &\n",
    "                      (crime_by_zip.year == 2017)]['total_arrest_count'].sum()"
   ]
  },
  {
   "cell_type": "code",
   "execution_count": null,
   "metadata": {},
   "outputs": [],
   "source": [
    "crime_by_zip.groupby(['month', 'year'], as_index=False).agg({'total_arrest_count': 'sum'})"
   ]
  },
  {
   "cell_type": "code",
   "execution_count": null,
   "metadata": {},
   "outputs": [],
   "source": [
    "# SN change\n",
    "# add month to merge condition\n",
    "# change join to left and fill missing total_arrest_count with 0\n",
    "# add month year\n",
    "full_df = zhvi_grouped_filtered.merge(crime_by_zip_f, left_on=['zipcode','date_month','date_year'], right_on=['zipcode','month','year'], how='left')\n",
    "full_df[\"total_arrest_count\"] = full_df[\"total_arrest_count\"].fillna(0)\n",
    "full_df[\"month\"] = full_df[\"date_month\"]\n",
    "full_df[\"year\"] = full_df[\"date_year\"]\n",
    "full_df['month_year'] = full_df['month'].map(str)+ '-' +full_df['year'].map(str)\n",
    "full_df['month_year'] = pd.to_datetime(full_df['month_year'], format='%m-%Y').dt.strftime('%m-%Y')\n",
    "full_df.drop(['date_month','date_year'], inplace=True, axis=1)\n",
    "full_df.head()"
   ]
  },
  {
   "cell_type": "code",
   "execution_count": null,
   "metadata": {},
   "outputs": [],
   "source": [
    "# full_df.groupby(['month','year'], as_index=False).agg({'total_arrest_count': 'sum', 'mean_zhvi': 'mean'}).sort_values(['year','month'])"
   ]
  },
  {
   "cell_type": "code",
   "execution_count": null,
   "metadata": {},
   "outputs": [],
   "source": [
    "# correct\n",
    "\n",
    "# by month all NY aggregated\n",
    "\n",
    "full_df_summary = full_df.groupby(['month','year'], as_index=False).agg({'total_arrest_count': 'sum', 'mean_zhvi': 'mean'})\n",
    "full_df_summary['mean_zhvi'].corr(full_df_summary['total_arrest_count'])"
   ]
  },
  {
   "cell_type": "code",
   "execution_count": null,
   "metadata": {},
   "outputs": [],
   "source": [
    "# by year, all NY aggregated\n",
    "full_df_summary_test = full_df.groupby(['year'], as_index=False).agg({'total_arrest_count': 'sum', 'mean_zhvi': 'mean'})\n",
    "full_df_summary_test['mean_zhvi'].corr(full_df_summary_test['total_arrest_count'])"
   ]
  },
  {
   "cell_type": "code",
   "execution_count": null,
   "metadata": {},
   "outputs": [],
   "source": [
    "# by month all NY NOT aggregated (by zip)\n",
    "full_df['mean_zhvi'].corr(full_df['total_arrest_count'])"
   ]
  },
  {
   "cell_type": "code",
   "execution_count": null,
   "metadata": {},
   "outputs": [],
   "source": [
    "from sklearn.linear_model import LinearRegression\n",
    "import numpy as np\n",
    "\n",
    "# get linear model coefficients and slope\n",
    "linear_full_df = full_df_summary.copy()\n",
    "linear_full_df.fillna(method='bfill', inplace=True)\n",
    "\n",
    "linear_model = LinearRegression()\n",
    "linear_model.fit(np.array(linear_full_df['total_arrest_count']).reshape(-1, 1), np.array(linear_full_df['mean_zhvi']).reshape(-1, 1))"
   ]
  },
  {
   "cell_type": "code",
   "execution_count": null,
   "metadata": {},
   "outputs": [],
   "source": [
    "arrest_list = list(np.linspace(start=full_df_summary['total_arrest_count'].min(), stop=full_df_summary['total_arrest_count'].max()*1.05, num=1000))\n",
    "zhvi_list = [((a*linear_model.coef_) + linear_model.intercept_).item() for a in arrest_list]\n",
    "linear_output_df = pd.DataFrame({'zhvi_list': zhvi_list, 'arrest_list': arrest_list})\n",
    "linear_output_df.head()"
   ]
  },
  {
   "cell_type": "code",
   "execution_count": null,
   "metadata": {},
   "outputs": [],
   "source": [
    "c1 = alt.Chart(full_df_summary).mark_point().encode(\n",
    "    x=alt.X('total_arrest_count', scale=alt.Scale(domain=[12000, 26000]), axis=alt.Axis(title='Total Arrests')),\n",
    "    y=alt.Y('mean_zhvi', scale=alt.Scale(domain=[680000, 730000]), axis=alt.Axis(title='Mean ZHVI ($)')),\n",
    "    color='year:N')\n",
    "\n",
    "c2 = alt.Chart(linear_output_df).mark_line(color='green').encode(\n",
    "    y=alt.Y('zhvi_list'),\n",
    "    x=alt.X('arrest_list'))\n",
    "\n",
    "(c1 + c2).properties(title='Correlation Between Total Arrests and Mean ZHVI')"
   ]
  },
  {
   "cell_type": "code",
   "execution_count": null,
   "metadata": {},
   "outputs": [],
   "source": [
    "# residuals\n",
    "\n",
    "preds = linear_model.predict(np.array(linear_full_df['total_arrest_count']).reshape(-1, 1))\n",
    "actuals = np.array(linear_full_df['mean_zhvi']).reshape(-1, 1)\n",
    "\n",
    "# on average, predictions using only crime rate per capita to predict ZHVI will be off by $250k\n",
    "(np.abs(actuals - preds)).mean()"
   ]
  },
  {
   "cell_type": "code",
   "execution_count": null,
   "metadata": {},
   "outputs": [],
   "source": [
    "from sklearn.metrics import r2_score\n",
    "\n",
    "print(f'r-squared of fitted model: {r2_score(actuals, preds):.3f}')"
   ]
  },
  {
   "cell_type": "markdown",
   "metadata": {},
   "source": [
    "#### Correlation to Per Capita Arrests by Zip"
   ]
  },
  {
   "cell_type": "code",
   "execution_count": null,
   "metadata": {},
   "outputs": [],
   "source": [
    "pop_by_zip_df = pd.read_csv(os.path.join('..','data','cleaned_data','population_by_zip.csv'))\n",
    "pop_by_zip_df.columns=['zipcode','population']\n",
    "pop_by_zip_df['population_int'] = pop_by_zip_df['population'].apply(lambda a: int(a.replace(',','')))\n",
    "pop_by_zip_df.drop(['population'], inplace=True, axis=1)\n",
    "pop_by_zip_df['zipcode'] = pop_by_zip_df['zipcode'].astype(str).str[:5]\n",
    "pop_by_zip_df.head()\n",
    "\n",
    "full_df = full_df.merge(pop_by_zip_df, left_on=['zipcode'], right_on=['zipcode'], how='left')\n",
    "full_df['arrest_per_capita'] = full_df['total_arrest_count'] / full_df['population_int']\n",
    "full_df.head()"
   ]
  },
  {
   "cell_type": "code",
   "execution_count": null,
   "metadata": {},
   "outputs": [],
   "source": [
    "full_df['mean_zhvi'].corr(full_df['arrest_per_capita'])"
   ]
  },
  {
   "cell_type": "code",
   "execution_count": null,
   "metadata": {},
   "outputs": [],
   "source": [
    "zip_correlation_dict = {}\n",
    "for zip in full_df.zipcode.unique():\n",
    "    zip_df = full_df[full_df.zipcode == zip]\n",
    "    zip_correlation_dict[zip] = zip_df['mean_zhvi'].corr(zip_df['arrest_per_capita'])\n",
    "    \n",
    "zip_correlation_df = pd.DataFrame.from_dict(zip_correlation_dict, orient = 'index').reset_index()\n",
    "zip_correlation_df.columns = ['zipcode','correlation_value']\n",
    "zip_correlation_df = zip_correlation_df[~zip_correlation_df.correlation_value.isnull()]\n",
    "zip_correlation_df.head()"
   ]
  },
  {
   "cell_type": "markdown",
   "metadata": {},
   "source": [
    "#### Correlation to Arrests by Zip"
   ]
  },
  {
   "cell_type": "code",
   "execution_count": null,
   "metadata": {},
   "outputs": [],
   "source": [
    "zip_correlation_dict = {}\n",
    "for zip in full_df.zipcode.unique():\n",
    "    zip_df = full_df[full_df.zipcode == zip]\n",
    "#     zip_df.sort_values(by = ['zipcode','year','month'], inplace = True)\n",
    "    zip_correlation_dict[zip] = zip_df['mean_zhvi'].corr(zip_df['total_arrest_count'])"
   ]
  },
  {
   "cell_type": "code",
   "execution_count": null,
   "metadata": {},
   "outputs": [],
   "source": [
    "zip_correlation_df = pd.DataFrame.from_dict(zip_correlation_dict, orient = 'index').reset_index()\n",
    "zip_correlation_df.columns = ['zipcode','correlation_value']\n",
    "zip_correlation_df = zip_correlation_df[~zip_correlation_df.correlation_value.isnull()]\n",
    "zip_correlation_df.head()"
   ]
  },
  {
   "cell_type": "code",
   "execution_count": null,
   "metadata": {},
   "outputs": [],
   "source": [
    "print(zip_correlation_df[(zip_correlation_df['correlation_value'] > 0.5)].shape)\n",
    "print(zip_correlation_df[(zip_correlation_df['correlation_value'] < -0.5)].shape)"
   ]
  },
  {
   "cell_type": "code",
   "execution_count": null,
   "metadata": {},
   "outputs": [],
   "source": [
    "# full_df[full_df.zipcode=='10473'].groupby(['month','year'], as_index=False).agg({'total_arrest_count': 'sum', \n",
    "#                                                                                  'mean_zhvi': 'mean'}).sort_values(['year','month'])"
   ]
  },
  {
   "cell_type": "code",
   "execution_count": null,
   "metadata": {},
   "outputs": [],
   "source": [
    "# average crime per zip?\n",
    "\n",
    "# full_df_summary = full_df[['month_year','mean_zhvi','total_arrest_count']].groupby('month_year').mean().reset_index()\n",
    "# full_df_summary.sort_values(by = ['month_year'], inplace = True)\n",
    "# full_df_summary['mean_zhvi'].corr(full_df_summary['total_arrest_count'])\n",
    "# full_df_summary"
   ]
  },
  {
   "cell_type": "code",
   "execution_count": null,
   "metadata": {},
   "outputs": [],
   "source": [
    "zip_correlation_dict = {}\n",
    "for zip in full_df.zipcode.unique():\n",
    "    zip_df = full_df[full_df.zipcode == zip]\n",
    "    zip_df.sort_values(by = ['zipcode','year','month'], inplace = True)\n",
    "    zip_correlation_dict[zip] = zip_df['mean_zhvi'].corr(zip_df['total_arrest_count'])"
   ]
  },
  {
   "cell_type": "code",
   "execution_count": null,
   "metadata": {},
   "outputs": [],
   "source": [
    "zip_correlation_df = pd.DataFrame.from_dict(zip_correlation_dict, orient = 'index').reset_index()\n",
    "zip_correlation_df.columns = ['zipcode','correlation_value']\n",
    "zip_correlation_df = zip_correlation_df[~zip_correlation_df.correlation_value.isnull()]\n",
    "zip_correlation_df.sort_values('correlation_value').head()"
   ]
  },
  {
   "cell_type": "code",
   "execution_count": null,
   "metadata": {},
   "outputs": [],
   "source": [
    "# nyc_map = folium.Map(location=[40.693943, -73.985880], zoom_start=10, tiles = \"CartoDB positron\")\n",
    "# folium.Choropleth(\n",
    "#     geo_data = \"nyc-zip-codes.geojson\", #json\n",
    "#     name ='choropleth',                  \n",
    "#     data = zip_avg_zhvi,                     \n",
    "#     columns = ['zipcode', 'mean_zhvi'], #columns to work on\n",
    "#     key_on ='feature.properties.postalCode',\n",
    "#     fill_color ='YlGnBu',     #I passed colors Yellow,Green,Blue\n",
    "#     fill_opacity = 0.7,\n",
    "#     line_opacity = 0.2,\n",
    "#    legend_name = \"Mean ZHVI (Housing Prices)\"\n",
    "# ).add_to(nyc_map)\n",
    "\n",
    "# nyc_map"
   ]
  },
  {
   "cell_type": "code",
   "execution_count": null,
   "metadata": {},
   "outputs": [],
   "source": [
    "nyc_map = folium.Map(location=[40.693943, -73.985880], zoom_start=10,tiles=\"CartoDB positron\")\n",
    "folium.Choropleth(\n",
    "    geo_data = \"nyc-zip-codes.geojson\", #json\n",
    "    name ='choropleth',                  \n",
    "    data = zip_correlation_df,                     \n",
    "    columns = ['zipcode', 'correlation_value'], #columns to work on\n",
    "    key_on ='feature.properties.postalCode',\n",
    "    fill_color ='YlGnBu',     #I passed colors Yellow,Green,Blue\n",
    "    fill_opacity = 0.7,\n",
    "    line_opacity = 0.2,\n",
    "   legend_name = \"Correlation Between Number of Arrests and Housing Prices\"\n",
    ").add_to(nyc_map)\n",
    "\n",
    "nyc_map"
   ]
  },
  {
   "cell_type": "code",
   "execution_count": null,
   "metadata": {},
   "outputs": [],
   "source": [
    "zip_correlation_df[zip_correlation_df.correlation_value > 0.2]"
   ]
  },
  {
   "cell_type": "code",
   "execution_count": null,
   "metadata": {},
   "outputs": [],
   "source": [
    "# average zhvi and total arrest across all zips for each month and plot\n",
    "full_df_summary = full_df[['month_year','mean_zhvi','total_arrest_count']].groupby('month_year').mean().reset_index()\n",
    "full_df_summary.sort_values(by = ['month_year'], inplace = True)\n",
    "print('Overall Correlation of Housing Prices vs. Total Arrest Count in NYC')\n",
    "print(full_df_summary['mean_zhvi'].corr(full_df_summary['total_arrest_count']))\n",
    "\n",
    "import matplotlib.pyplot as plt\n",
    "\n",
    "fig, ax1 = plt.subplots()\n",
    "ax1.plot_date(full_df_summary['month_year'], tst_df['mean_zhvi'], c = 'b')\n",
    "ax1.set_ylabel('Mean of Housing Prices')\n",
    "ax2 = ax1.twinx()\n",
    "ax2.plot_date(full_df_summary['month_year'], tst_df['total_arrest_count'], c = 'r')\n",
    "ax2.set_ylabel('Mean of Total Arrest Counts')\n",
    "ax2.set_xticks(ax1.get_xticks()[::10])\n",
    "plt.show()"
   ]
  },
  {
   "cell_type": "code",
   "execution_count": null,
   "metadata": {
    "scrolled": true
   },
   "outputs": [],
   "source": [
    "# plot the total_arrests vs. housing prices for zip code with correlation greater than 0.2\n",
    "import numpy as np\n",
    "fig, axs = plt.subplots(6,3, figsize=(18,12))\n",
    "axs = axs.ravel()\n",
    "\n",
    "i = 0\n",
    "for zip in zip_correlation_df[zip_correlation_df.correlation_value > 0.2].zipcode:\n",
    "    tst_df = full_df[full_df.zipcode == zip].sort_values(['year','month'])\n",
    "    axs[i].plot_date(tst_df['month_year'], tst_df['mean_zhvi'], c = 'b')\n",
    "    axs[i].twinx().plot_date(tst_df['month_year'], tst_df['total_arrest_count'], c = 'r')\n",
    "    axs[i].set_xticks(ax1.get_xticks()[::2])\n",
    "    axs[i].set_title(\"Zip: \" + str(zip))\n",
    "    i = i + 1\n",
    "    \n",
    "fig.suptitle('Housing Prices vs. Total Arrest Count for Zips With Correlation > 0.2', fontsize=16)\n",
    "fig.tight_layout()"
   ]
  },
  {
   "cell_type": "code",
   "execution_count": null,
   "metadata": {},
   "outputs": [],
   "source": []
  },
  {
   "cell_type": "code",
   "execution_count": null,
   "metadata": {},
   "outputs": [],
   "source": []
  },
  {
   "cell_type": "code",
   "execution_count": null,
   "metadata": {},
   "outputs": [],
   "source": []
  }
 ],
 "metadata": {
  "kernelspec": {
   "display_name": "umads_venv",
   "language": "python",
   "name": "umads_venv"
  },
  "language_info": {
   "codemirror_mode": {
    "name": "ipython",
    "version": 3
   },
   "file_extension": ".py",
   "mimetype": "text/x-python",
   "name": "python",
   "nbconvert_exporter": "python",
   "pygments_lexer": "ipython3",
   "version": "3.7.4"
  }
 },
 "nbformat": 4,
 "nbformat_minor": 4
}
