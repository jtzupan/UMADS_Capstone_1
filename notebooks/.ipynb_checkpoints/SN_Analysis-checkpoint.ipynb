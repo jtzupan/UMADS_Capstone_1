{
 "cells": [
  {
   "cell_type": "code",
   "execution_count": null,
   "metadata": {},
   "outputs": [],
   "source": [
    "import pandas as pd\n",
    "import os\n",
    "import altair as alt\n",
    "import folium\n",
    "import matplotlib.pyplot as plt"
   ]
  },
  {
   "cell_type": "code",
   "execution_count": null,
   "metadata": {},
   "outputs": [],
   "source": [
    "# SN changes\n",
    "# add month\n",
    "# remove .isocalendar()\n",
    "# filter to 2017 and after\n",
    "\n",
    "home_value_df = pd.read_csv(os.path.join('..','data','cleaned_data','ny_zhvi.csv'))\n",
    "home_value_df.drop(['RegionType','StateName','State','City','Metro','CountyName'], inplace=True, axis=1) \n",
    "home_value_df.rename({'RegionName': 'zipcode'}, inplace=True, axis=1)\n",
    "home_value_df.set_index('zipcode',inplace=True)\n",
    "home_value_df_transposed = home_value_df.T\n",
    "home_value_df_transposed.reset_index(inplace=True)\n",
    "cols = [str(a) for a in list(home_value_df_transposed)]\n",
    "cols[0] = 'date_str'\n",
    "home_value_df_transposed.columns = cols\n",
    "\n",
    "\n",
    "home_value_df_transposed_slim = pd.DataFrame(columns=['date_str', 'mean_zhvi',  'zipcode'])\n",
    "\n",
    "for zip_ in list(home_value_df_transposed):\n",
    "    if zip_ == 'date_str':\n",
    "        continue\n",
    "    current_zip = home_value_df_transposed[['date_str', zip_]].copy()\n",
    "    current_zip['zipcode'] = zip_\n",
    "    current_zip.columns = ['date_str', 'mean_zhvi',  'zipcode']\n",
    "    home_value_df_transposed_slim = home_value_df_transposed_slim.append(current_zip)\n",
    "home_value_df_transposed_slim['mean_zhvi'] = home_value_df_transposed_slim['mean_zhvi'].astype(float)\n",
    "\n",
    "home_value_df_transposed_slim['date'] = pd.to_datetime(home_value_df_transposed_slim['date_str'])\n",
    "home_value_df_transposed_slim['date_month'] = home_value_df_transposed_slim['date'].dt.month\n",
    "home_value_df_transposed_slim['date_year'] = home_value_df_transposed_slim['date'].dt.year\n",
    "zhvi_grouped = home_value_df_transposed_slim.groupby(['zipcode', 'date_month','date_year'], as_index=False).agg({'mean_zhvi':'mean'})\n",
    "zhvi_grouped = zhvi_grouped[zhvi_grouped.date_year >= 2017]"
   ]
  },
  {
   "cell_type": "code",
   "execution_count": null,
   "metadata": {},
   "outputs": [],
   "source": [
    "crime_2017_df = pd.read_csv(os.path.join('..', 'data', 'cleaned_data', 'ny_crimes_2017.csv'))\n",
    "crime_2018_df = pd.read_csv(os.path.join('..', 'data', 'cleaned_data', 'ny_crimes_2018.csv'))\n",
    "crime_2019_df = pd.read_csv(os.path.join('..', 'data', 'cleaned_data', 'ny_crimes_2019.csv'))\n",
    "\n",
    "print(f'2017 crime df shape: {crime_2017_df.shape}')\n",
    "print(f'2018 crime df shape: {crime_2018_df.shape}')\n",
    "print(f'2019 crime df shape: {crime_2019_df.shape}')"
   ]
  },
  {
   "cell_type": "code",
   "execution_count": null,
   "metadata": {},
   "outputs": [],
   "source": [
    "all_crimes_full_df = crime_2017_df.append(crime_2018_df)\n",
    "all_crimes_full_df = all_crimes_full_df.append(crime_2019_df)\n",
    "print(all_crimes_full_df.shape)"
   ]
  },
  {
   "cell_type": "code",
   "execution_count": null,
   "metadata": {},
   "outputs": [],
   "source": [
    "all_crimes_full_df['ARREST_DATE_STR'] = all_crimes_full_df['ARREST_DATE'].copy()\n",
    "all_crimes_full_df['ARREST_DATE'] = pd.to_datetime(all_crimes_full_df['ARREST_DATE_STR']).copy()\n",
    "all_crimes_full_df['ARREST_DATE_MONTH'] = all_crimes_full_df['ARREST_DATE'].dt.month\n",
    "all_crimes_full_df['ARREST_DATE_YEAR'] = all_crimes_full_df['ARREST_DATE'].dt.year\n",
    "all_crimes_full_df['zip_code'] = all_crimes_full_df['zip_code'].astype(str)"
   ]
  },
  {
   "cell_type": "code",
   "execution_count": null,
   "metadata": {},
   "outputs": [],
   "source": [
    "# SN changes\n",
    "# add month\n",
    "crime_by_zip = all_crimes_full_df.groupby(['zip_code', 'ARREST_DATE_MONTH','ARREST_DATE_YEAR'], as_index=False).agg({'ARREST_KEY': 'count'})\n",
    "crime_by_zip = crime_by_zip[(crime_by_zip.ARREST_DATE_YEAR > 2016) & (crime_by_zip.ARREST_DATE_YEAR < 2020)]\n",
    "crime_by_zip.columns = ['zipcode','month','year','total_arrest_count']\n",
    "crime_by_zip.shape"
   ]
  },
  {
   "cell_type": "code",
   "execution_count": null,
   "metadata": {},
   "outputs": [],
   "source": [
    "crime_by_zip.head(20)"
   ]
  },
  {
   "cell_type": "code",
   "execution_count": null,
   "metadata": {},
   "outputs": [],
   "source": [
    "zhvi_grouped_filtered = zhvi_grouped[(zhvi_grouped.date_year > 2016) & (zhvi_grouped.date_year < 2020)].copy()\n",
    "print(zhvi_grouped_filtered.shape)"
   ]
  },
  {
   "cell_type": "code",
   "execution_count": null,
   "metadata": {},
   "outputs": [],
   "source": [
    "# SN change\n",
    "# add month to merge condition\n",
    "# change join to left and fill missing total_arrest_count with 0\n",
    "# add month year\n",
    "full_df = zhvi_grouped_filtered.merge(crime_by_zip, left_on=['zipcode','date_month','date_year'], right_on=['zipcode','month','year'], how='left')\n",
    "full_df[\"total_arrest_count\"] = full_df[\"total_arrest_count\"].fillna(0)\n",
    "full_df[\"month\"] = full_df[\"date_month\"]\n",
    "full_df[\"year\"] = full_df[\"date_year\"]\n",
    "full_df['month_year'] = full_df['month'].map(str)+ '-' +full_df['year'].map(str)\n",
    "full_df['month_year'] = pd.to_datetime(full_df['month_year'], format='%m-%Y').dt.strftime('%m-%Y')\n",
    "full_df.drop(['date_month','date_year'], inplace=True, axis=1)\n",
    "full_df.head()"
   ]
  },
  {
   "cell_type": "code",
   "execution_count": null,
   "metadata": {},
   "outputs": [],
   "source": [
    "full_df_summary = full_df[['month_year','mean_zhvi','total_arrest_count']].groupby('month_year').mean().reset_index()\n",
    "full_df_summary.sort_values(by = ['month_year'], inplace = True)\n",
    "full_df_summary['mean_zhvi'].corr(full_df_summary['total_arrest_count'])"
   ]
  },
  {
   "cell_type": "code",
   "execution_count": null,
   "metadata": {},
   "outputs": [],
   "source": [
    "zip_correlation_dict = {}\n",
    "for zip in full_df.zipcode.unique():\n",
    "    zip_df = full_df[full_df.zipcode == zip]\n",
    "    zip_df.sort_values(by = ['zipcode','year','month'], inplace = True)\n",
    "    zip_correlation_dict[zip] = zip_df['mean_zhvi'].corr(zip_df['total_arrest_count'])"
   ]
  },
  {
   "cell_type": "code",
   "execution_count": null,
   "metadata": {},
   "outputs": [],
   "source": [
    "zip_correlation_df = pd.DataFrame.from_dict(zip_correlation_dict, orient = 'index').reset_index()\n",
    "zip_correlation_df.columns = ['zipcode','correlation_value']\n",
    "zip_correlation_df = zip_correlation_df[~zip_correlation_df.correlation_value.isnull()]\n",
    "zip_correlation_df.head()"
   ]
  },
  {
   "cell_type": "code",
   "execution_count": null,
   "metadata": {},
   "outputs": [],
   "source": [
    "nyc_map = folium.Map(location=[40.693943, -73.985880], zoom_start=10, tiles = \"CartoDB positron\")\n",
    "folium.Choropleth(\n",
    "    geo_data = \"nyc-zip-codes.geojson\", #json\n",
    "    name ='choropleth',                  \n",
    "    data = zip_avg_zhvi,                     \n",
    "    columns = ['zipcode', 'mean_zhvi'], #columns to work on\n",
    "    key_on ='feature.properties.postalCode',\n",
    "    fill_color ='YlGnBu',     #I passed colors Yellow,Green,Blue\n",
    "    fill_opacity = 0.7,\n",
    "    line_opacity = 0.2,\n",
    "   legend_name = \"Mean ZHVI (Housing Prices)\"\n",
    ").add_to(nyc_map)\n",
    "\n",
    "nyc_map"
   ]
  },
  {
   "cell_type": "code",
   "execution_count": null,
   "metadata": {},
   "outputs": [],
   "source": [
    "nyc_map = folium.Map(location=[40.693943, -73.985880], zoom_start=10,tiles=\"CartoDB positron\")\n",
    "folium.Choropleth(\n",
    "    geo_data = \"nyc-zip-codes.geojson\", #json\n",
    "    name ='choropleth',                  \n",
    "    data = zip_correlation_df,                     \n",
    "    columns = ['zipcode', 'correlation_value'], #columns to work on\n",
    "    key_on ='feature.properties.postalCode',\n",
    "    fill_color ='YlGnBu',     #I passed colors Yellow,Green,Blue\n",
    "    fill_opacity = 0.7,\n",
    "    line_opacity = 0.2,\n",
    "   legend_name = \"Correlation Between Number of Arrests and Housing Prices\"\n",
    ").add_to(nyc_map)\n",
    "\n",
    "nyc_map"
   ]
  },
  {
   "cell_type": "code",
   "execution_count": null,
   "metadata": {},
   "outputs": [],
   "source": [
    "zip_correlation_df[zip_correlation_df.correlation_value > 0.2]"
   ]
  },
  {
   "cell_type": "code",
   "execution_count": null,
   "metadata": {},
   "outputs": [],
   "source": [
    "# average zhvi and total arrest across all zips for each month and plot\n",
    "full_df_summary = full_df[['month_year','mean_zhvi','total_arrest_count']].groupby('month_year').mean().reset_index()\n",
    "full_df_summary.sort_values(by = ['month_year'], inplace = True)\n",
    "print('Overall Correlation of Housing Prices vs. Total Arrest Count in NYC')\n",
    "print(full_df_summary['mean_zhvi'].corr(full_df_summary['total_arrest_count']))\n",
    "\n",
    "import matplotlib.pyplot as plt\n",
    "\n",
    "fig, ax1 = plt.subplots()\n",
    "ax1.plot_date(full_df_summary['month_year'], tst_df['mean_zhvi'], c = 'b')\n",
    "ax1.set_ylabel('Mean of Housing Prices')\n",
    "ax2 = ax1.twinx()\n",
    "ax2.plot_date(full_df_summary['month_year'], tst_df['total_arrest_count'], c = 'r')\n",
    "ax2.set_ylabel('Mean of Total Arrest Counts')\n",
    "ax2.set_xticks(ax1.get_xticks()[::10])\n",
    "plt.show()"
   ]
  },
  {
   "cell_type": "code",
   "execution_count": null,
   "metadata": {
    "scrolled": true
   },
   "outputs": [],
   "source": [
    "# plot the total_arrests vs. housing prices for zip code with correlation greater than 0.2\n",
    "import numpy as np\n",
    "fig, axs = plt.subplots(6,3, figsize=(18,12))\n",
    "axs = axs.ravel()\n",
    "\n",
    "i = 0\n",
    "for zip in zip_correlation_df[zip_correlation_df.correlation_value > 0.2].zipcode:\n",
    "    tst_df = full_df[full_df.zipcode == zip].sort_values(['year','month'])\n",
    "    axs[i].plot_date(tst_df['month_year'], tst_df['mean_zhvi'], c = 'b')\n",
    "    axs[i].twinx().plot_date(tst_df['month_year'], tst_df['total_arrest_count'], c = 'r')\n",
    "    axs[i].set_xticks(ax1.get_xticks()[::2])\n",
    "    axs[i].set_title(\"Zip: \" + str(zip))\n",
    "    i = i + 1\n",
    "    \n",
    "fig.suptitle('Housing Prices vs. Total Arrest Count for Zips With Correlation > 0.2', fontsize=16)\n",
    "fig.tight_layout()"
   ]
  }
 ],
 "metadata": {
  "kernelspec": {
   "display_name": "umads_venv",
   "language": "python",
   "name": "umads_venv"
  },
  "language_info": {
   "codemirror_mode": {
    "name": "ipython",
    "version": 3
   },
   "file_extension": ".py",
   "mimetype": "text/x-python",
   "name": "python",
   "nbconvert_exporter": "python",
   "pygments_lexer": "ipython3",
   "version": "3.7.4"
  }
 },
 "nbformat": 4,
 "nbformat_minor": 4
}
